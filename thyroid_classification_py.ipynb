{
  "metadata": {
    "kernelspec": {
      "language": "python",
      "display_name": "Python 3",
      "name": "python3"
    },
    "language_info": {
      "name": "python",
      "version": "3.7.10",
      "mimetype": "text/x-python",
      "codemirror_mode": {
        "name": "ipython",
        "version": 3
      },
      "pygments_lexer": "ipython3",
      "nbconvert_exporter": "python",
      "file_extension": ".py"
    },
    "kaggle": {
      "accelerator": "none",
      "dataSources": [
        {
          "sourceId": 1730566,
          "sourceType": "datasetVersion",
          "datasetId": 1027034
        },
        {
          "sourceId": 7589054,
          "sourceType": "datasetVersion",
          "datasetId": 4417438
        }
      ],
      "dockerImageVersionId": 30138,
      "isInternetEnabled": false,
      "language": "python",
      "sourceType": "notebook",
      "isGpuEnabled": false
    },
    "colab": {
      "name": "thyroid_classification.py",
      "provenance": []
    }
  },
  "nbformat_minor": 0,
  "nbformat": 4,
  "cells": [
    {
      "source": [
        "\n",
        "# IMPORTANT: RUN THIS CELL IN ORDER TO IMPORT YOUR KAGGLE DATA SOURCES\n",
        "# TO THE CORRECT LOCATION (/kaggle/input) IN YOUR NOTEBOOK,\n",
        "# THEN FEEL FREE TO DELETE THIS CELL.\n",
        "# NOTE: THIS NOTEBOOK ENVIRONMENT DIFFERS FROM KAGGLE'S PYTHON\n",
        "# ENVIRONMENT SO THERE MAY BE MISSING LIBRARIES USED BY YOUR\n",
        "# NOTEBOOK.\n",
        "\n",
        "import os\n",
        "import sys\n",
        "from tempfile import NamedTemporaryFile\n",
        "from urllib.request import urlopen\n",
        "from urllib.parse import unquote, urlparse\n",
        "from urllib.error import HTTPError\n",
        "from zipfile import ZipFile\n",
        "import tarfile\n",
        "import shutil\n",
        "\n",
        "CHUNK_SIZE = 40960\n",
        "DATA_SOURCE_MAPPING = 'thyroid-disease-data-set:https%3A%2F%2Fstorage.googleapis.com%2Fkaggle-data-sets%2F1027034%2F1730566%2Fbundle%2Farchive.zip%3FX-Goog-Algorithm%3DGOOG4-RSA-SHA256%26X-Goog-Credential%3Dgcp-kaggle-com%2540kaggle-161607.iam.gserviceaccount.com%252F20240209%252Fauto%252Fstorage%252Fgoog4_request%26X-Goog-Date%3D20240209T061450Z%26X-Goog-Expires%3D259200%26X-Goog-SignedHeaders%3Dhost%26X-Goog-Signature%3D2c638f66e866a764aab407650c1cfb7e3c7b5cb67fb24f3810901698f11e1f58196b8d37630007fe16d371ca707120a9faea95d82df5b6256973f4622d481229cc746ba7b10648789270eccd5f7de06fcafcb80858603e6174857a0c91394c48d62e1fc3eef9f4c33202a5dabbd2c004c1c980e81577b149cea7c19a1cf84436f9a7c7e24d88b005d5069e1f417a217a7f6a7fb528b9e70c4c4672c25dc51ac3a7ef14fde16783bda46c34604781da4ff0339e8bca082e475a034e02673a2ff3876a116e7800f22d36e1238fb06c9961edd89be7d7cef427d9d766af6532461bd9f217fac2da900b1ff7af805a6c8d112439393f3afdba81484c388bef6bd25c,html-files:https%3A%2F%2Fstorage.googleapis.com%2Fkaggle-data-sets%2F4417438%2F7589054%2Fbundle%2Farchive.zip%3FX-Goog-Algorithm%3DGOOG4-RSA-SHA256%26X-Goog-Credential%3Dgcp-kaggle-com%2540kaggle-161607.iam.gserviceaccount.com%252F20240209%252Fauto%252Fstorage%252Fgoog4_request%26X-Goog-Date%3D20240209T061450Z%26X-Goog-Expires%3D259200%26X-Goog-SignedHeaders%3Dhost%26X-Goog-Signature%3D69ba766928e699fc8beb5f4550fcf794f8c912a58a4ff76023caba7cd6a6bc23ad2b4b85f6b5500acdbd983238da5c409c2b6584ad1ad3835036a59181faf7e9643cb42cc0418b1fa7cfb56e13f0cb4f408fbae3098fa8e21795bf59f43fc2cfbdf3e1d680163ae25624d869ec2dc39d7624d6bc5f5f5c6e12c85c86dd25e00a7439dff9ac2375153b180cda20bd2a5ec086731b9a4fd282ca4a2e540d473b53d19ff37befdb3c9cc17ad38f34afdc99738c05c61a92998e7802e64ea13c200474eac58e0a3486940892954789f153116ef218ad65f6e0c766b450d13d210d6acaef134bd9475178c2e76e9828df67cfca3152f10390ba89a53566336daaef9c'\n",
        "\n",
        "KAGGLE_INPUT_PATH='/kaggle/input'\n",
        "KAGGLE_WORKING_PATH='/kaggle/working'\n",
        "KAGGLE_SYMLINK='kaggle'\n",
        "\n",
        "!umount /kaggle/input/ 2> /dev/null\n",
        "shutil.rmtree('/kaggle/input', ignore_errors=True)\n",
        "os.makedirs(KAGGLE_INPUT_PATH, 0o777, exist_ok=True)\n",
        "os.makedirs(KAGGLE_WORKING_PATH, 0o777, exist_ok=True)\n",
        "\n",
        "try:\n",
        "  os.symlink(KAGGLE_INPUT_PATH, os.path.join(\"..\", 'input'), target_is_directory=True)\n",
        "except FileExistsError:\n",
        "  pass\n",
        "try:\n",
        "  os.symlink(KAGGLE_WORKING_PATH, os.path.join(\"..\", 'working'), target_is_directory=True)\n",
        "except FileExistsError:\n",
        "  pass\n",
        "\n",
        "for data_source_mapping in DATA_SOURCE_MAPPING.split(','):\n",
        "    directory, download_url_encoded = data_source_mapping.split(':')\n",
        "    download_url = unquote(download_url_encoded)\n",
        "    filename = urlparse(download_url).path\n",
        "    destination_path = os.path.join(KAGGLE_INPUT_PATH, directory)\n",
        "    try:\n",
        "        with urlopen(download_url) as fileres, NamedTemporaryFile() as tfile:\n",
        "            total_length = fileres.headers['content-length']\n",
        "            print(f'Downloading {directory}, {total_length} bytes compressed')\n",
        "            dl = 0\n",
        "            data = fileres.read(CHUNK_SIZE)\n",
        "            while len(data) > 0:\n",
        "                dl += len(data)\n",
        "                tfile.write(data)\n",
        "                done = int(50 * dl / int(total_length))\n",
        "                sys.stdout.write(f\"\\r[{'=' * done}{' ' * (50-done)}] {dl} bytes downloaded\")\n",
        "                sys.stdout.flush()\n",
        "                data = fileres.read(CHUNK_SIZE)\n",
        "            if filename.endswith('.zip'):\n",
        "              with ZipFile(tfile) as zfile:\n",
        "                zfile.extractall(destination_path)\n",
        "            else:\n",
        "              with tarfile.open(tfile.name) as tarfile:\n",
        "                tarfile.extractall(destination_path)\n",
        "            print(f'\\nDownloaded and uncompressed: {directory}')\n",
        "    except HTTPError as e:\n",
        "        print(f'Failed to load (likely expired) {download_url} to path {destination_path}')\n",
        "        continue\n",
        "    except OSError as e:\n",
        "        print(f'Failed to load {download_url} to path {destination_path}')\n",
        "        continue\n",
        "\n",
        "print('Data source import complete.')\n"
      ],
      "metadata": {
        "colab": {
          "base_uri": "https://localhost:8080/"
        },
        "id": "QQzm70VjgSii",
        "outputId": "33eb8a9c-931c-4fdb-be41-83943f7397d8"
      },
      "cell_type": "code",
      "outputs": [
        {
          "output_type": "stream",
          "name": "stdout",
          "text": [
            "Downloading thyroid-disease-data-set, 49962 bytes compressed\n",
            "[==================================================] 49962 bytes downloaded\n",
            "Downloaded and uncompressed: thyroid-disease-data-set\n",
            "Downloading html-files, 989 bytes compressed\n",
            "[==================================================] 989 bytes downloaded\n",
            "Downloaded and uncompressed: html-files\n",
            "Data source import complete.\n"
          ]
        }
      ],
      "execution_count": 2
    },
    {
      "cell_type": "markdown",
      "source": [
        "## **Import Libraries**"
      ],
      "metadata": {
        "id": "TKwLD35NgSik"
      }
    },
    {
      "cell_type": "code",
      "source": [
        "#pandas\n",
        "import pandas as pd\n",
        "\n",
        "#numpy\n",
        "import numpy as np\n",
        "\n",
        "#matplotlib\n",
        "import matplotlib.pyplot as plt\n",
        "\n",
        "#seaborn\n",
        "import seaborn as sns\n",
        "\n",
        "#sklearn\n",
        "from sklearn.linear_model import LogisticRegression\n",
        "from sklearn.svm import SVC\n",
        "from sklearn.metrics import classification_report,f1_score\n",
        "from sklearn.ensemble import RandomForestClassifier\n",
        "from sklearn.preprocessing import LabelEncoder\n",
        "from imblearn.over_sampling import SMOTE\n",
        "from sklearn.model_selection import train_test_split\n",
        "from sklearn.preprocessing import MinMaxScaler\n",
        "import pickle\n",
        "import warnings\n",
        "warnings.filterwarnings('ignore')"
      ],
      "metadata": {
        "execution": {
          "iopub.status.busy": "2024-02-08T14:14:27.913488Z",
          "iopub.execute_input": "2024-02-08T14:14:27.913777Z",
          "iopub.status.idle": "2024-02-08T14:14:28.557485Z",
          "shell.execute_reply.started": "2024-02-08T14:14:27.913704Z",
          "shell.execute_reply": "2024-02-08T14:14:28.556699Z"
        },
        "trusted": true,
        "id": "Kc7LXyfKgSim"
      },
      "execution_count": 3,
      "outputs": []
    },
    {
      "cell_type": "markdown",
      "source": [
        "## **Read data from csv**"
      ],
      "metadata": {
        "id": "CgCpeqv-gSin"
      }
    },
    {
      "cell_type": "code",
      "source": [
        "thyroid_df = pd.read_csv('../input/thyroid-disease-data-set/hypothyroid.csv')\n",
        "thyroid_df.head()"
      ],
      "metadata": {
        "execution": {
          "iopub.status.busy": "2024-02-08T14:14:28.558731Z",
          "iopub.execute_input": "2024-02-08T14:14:28.559111Z",
          "iopub.status.idle": "2024-02-08T14:14:28.634927Z",
          "shell.execute_reply.started": "2024-02-08T14:14:28.559077Z",
          "shell.execute_reply": "2024-02-08T14:14:28.63426Z"
        },
        "trusted": true,
        "colab": {
          "base_uri": "https://localhost:8080/",
          "height": 253
        },
        "id": "q906uoUcgSin",
        "outputId": "53c8f01d-c1b8-4856-e33e-6e2afa4a1c57"
      },
      "execution_count": 4,
      "outputs": [
        {
          "output_type": "execute_result",
          "data": {
            "text/plain": [
              "  age sex on thyroxine query on thyroxine on antithyroid medication sick  \\\n",
              "0  41   F            f                  f                         f    f   \n",
              "1  23   F            f                  f                         f    f   \n",
              "2  46   M            f                  f                         f    f   \n",
              "3  70   F            t                  f                         f    f   \n",
              "4  70   F            f                  f                         f    f   \n",
              "\n",
              "  pregnant thyroid surgery I131 treatment query hypothyroid  ... TT4 measured  \\\n",
              "0        f               f              f                 f  ...            t   \n",
              "1        f               f              f                 f  ...            t   \n",
              "2        f               f              f                 f  ...            t   \n",
              "3        f               f              f                 f  ...            t   \n",
              "4        f               f              f                 f  ...            t   \n",
              "\n",
              "   TT4 T4U measured   T4U FTI measured  FTI TBG measured TBG referral source  \\\n",
              "0  125            t  1.14            t  109            f   ?            SVHC   \n",
              "1  102            f     ?            f    ?            f   ?           other   \n",
              "2  109            t  0.91            t  120            f   ?           other   \n",
              "3  175            f     ?            f    ?            f   ?           other   \n",
              "4   61            t  0.87            t   70            f   ?             SVI   \n",
              "\n",
              "  binaryClass  \n",
              "0           P  \n",
              "1           P  \n",
              "2           P  \n",
              "3           P  \n",
              "4           P  \n",
              "\n",
              "[5 rows x 30 columns]"
            ],
            "text/html": [
              "\n",
              "  <div id=\"df-14e17531-b550-4b2b-a5cc-569d110404da\" class=\"colab-df-container\">\n",
              "    <div>\n",
              "<style scoped>\n",
              "    .dataframe tbody tr th:only-of-type {\n",
              "        vertical-align: middle;\n",
              "    }\n",
              "\n",
              "    .dataframe tbody tr th {\n",
              "        vertical-align: top;\n",
              "    }\n",
              "\n",
              "    .dataframe thead th {\n",
              "        text-align: right;\n",
              "    }\n",
              "</style>\n",
              "<table border=\"1\" class=\"dataframe\">\n",
              "  <thead>\n",
              "    <tr style=\"text-align: right;\">\n",
              "      <th></th>\n",
              "      <th>age</th>\n",
              "      <th>sex</th>\n",
              "      <th>on thyroxine</th>\n",
              "      <th>query on thyroxine</th>\n",
              "      <th>on antithyroid medication</th>\n",
              "      <th>sick</th>\n",
              "      <th>pregnant</th>\n",
              "      <th>thyroid surgery</th>\n",
              "      <th>I131 treatment</th>\n",
              "      <th>query hypothyroid</th>\n",
              "      <th>...</th>\n",
              "      <th>TT4 measured</th>\n",
              "      <th>TT4</th>\n",
              "      <th>T4U measured</th>\n",
              "      <th>T4U</th>\n",
              "      <th>FTI measured</th>\n",
              "      <th>FTI</th>\n",
              "      <th>TBG measured</th>\n",
              "      <th>TBG</th>\n",
              "      <th>referral source</th>\n",
              "      <th>binaryClass</th>\n",
              "    </tr>\n",
              "  </thead>\n",
              "  <tbody>\n",
              "    <tr>\n",
              "      <th>0</th>\n",
              "      <td>41</td>\n",
              "      <td>F</td>\n",
              "      <td>f</td>\n",
              "      <td>f</td>\n",
              "      <td>f</td>\n",
              "      <td>f</td>\n",
              "      <td>f</td>\n",
              "      <td>f</td>\n",
              "      <td>f</td>\n",
              "      <td>f</td>\n",
              "      <td>...</td>\n",
              "      <td>t</td>\n",
              "      <td>125</td>\n",
              "      <td>t</td>\n",
              "      <td>1.14</td>\n",
              "      <td>t</td>\n",
              "      <td>109</td>\n",
              "      <td>f</td>\n",
              "      <td>?</td>\n",
              "      <td>SVHC</td>\n",
              "      <td>P</td>\n",
              "    </tr>\n",
              "    <tr>\n",
              "      <th>1</th>\n",
              "      <td>23</td>\n",
              "      <td>F</td>\n",
              "      <td>f</td>\n",
              "      <td>f</td>\n",
              "      <td>f</td>\n",
              "      <td>f</td>\n",
              "      <td>f</td>\n",
              "      <td>f</td>\n",
              "      <td>f</td>\n",
              "      <td>f</td>\n",
              "      <td>...</td>\n",
              "      <td>t</td>\n",
              "      <td>102</td>\n",
              "      <td>f</td>\n",
              "      <td>?</td>\n",
              "      <td>f</td>\n",
              "      <td>?</td>\n",
              "      <td>f</td>\n",
              "      <td>?</td>\n",
              "      <td>other</td>\n",
              "      <td>P</td>\n",
              "    </tr>\n",
              "    <tr>\n",
              "      <th>2</th>\n",
              "      <td>46</td>\n",
              "      <td>M</td>\n",
              "      <td>f</td>\n",
              "      <td>f</td>\n",
              "      <td>f</td>\n",
              "      <td>f</td>\n",
              "      <td>f</td>\n",
              "      <td>f</td>\n",
              "      <td>f</td>\n",
              "      <td>f</td>\n",
              "      <td>...</td>\n",
              "      <td>t</td>\n",
              "      <td>109</td>\n",
              "      <td>t</td>\n",
              "      <td>0.91</td>\n",
              "      <td>t</td>\n",
              "      <td>120</td>\n",
              "      <td>f</td>\n",
              "      <td>?</td>\n",
              "      <td>other</td>\n",
              "      <td>P</td>\n",
              "    </tr>\n",
              "    <tr>\n",
              "      <th>3</th>\n",
              "      <td>70</td>\n",
              "      <td>F</td>\n",
              "      <td>t</td>\n",
              "      <td>f</td>\n",
              "      <td>f</td>\n",
              "      <td>f</td>\n",
              "      <td>f</td>\n",
              "      <td>f</td>\n",
              "      <td>f</td>\n",
              "      <td>f</td>\n",
              "      <td>...</td>\n",
              "      <td>t</td>\n",
              "      <td>175</td>\n",
              "      <td>f</td>\n",
              "      <td>?</td>\n",
              "      <td>f</td>\n",
              "      <td>?</td>\n",
              "      <td>f</td>\n",
              "      <td>?</td>\n",
              "      <td>other</td>\n",
              "      <td>P</td>\n",
              "    </tr>\n",
              "    <tr>\n",
              "      <th>4</th>\n",
              "      <td>70</td>\n",
              "      <td>F</td>\n",
              "      <td>f</td>\n",
              "      <td>f</td>\n",
              "      <td>f</td>\n",
              "      <td>f</td>\n",
              "      <td>f</td>\n",
              "      <td>f</td>\n",
              "      <td>f</td>\n",
              "      <td>f</td>\n",
              "      <td>...</td>\n",
              "      <td>t</td>\n",
              "      <td>61</td>\n",
              "      <td>t</td>\n",
              "      <td>0.87</td>\n",
              "      <td>t</td>\n",
              "      <td>70</td>\n",
              "      <td>f</td>\n",
              "      <td>?</td>\n",
              "      <td>SVI</td>\n",
              "      <td>P</td>\n",
              "    </tr>\n",
              "  </tbody>\n",
              "</table>\n",
              "<p>5 rows × 30 columns</p>\n",
              "</div>\n",
              "    <div class=\"colab-df-buttons\">\n",
              "\n",
              "  <div class=\"colab-df-container\">\n",
              "    <button class=\"colab-df-convert\" onclick=\"convertToInteractive('df-14e17531-b550-4b2b-a5cc-569d110404da')\"\n",
              "            title=\"Convert this dataframe to an interactive table.\"\n",
              "            style=\"display:none;\">\n",
              "\n",
              "  <svg xmlns=\"http://www.w3.org/2000/svg\" height=\"24px\" viewBox=\"0 -960 960 960\">\n",
              "    <path d=\"M120-120v-720h720v720H120Zm60-500h600v-160H180v160Zm220 220h160v-160H400v160Zm0 220h160v-160H400v160ZM180-400h160v-160H180v160Zm440 0h160v-160H620v160ZM180-180h160v-160H180v160Zm440 0h160v-160H620v160Z\"/>\n",
              "  </svg>\n",
              "    </button>\n",
              "\n",
              "  <style>\n",
              "    .colab-df-container {\n",
              "      display:flex;\n",
              "      gap: 12px;\n",
              "    }\n",
              "\n",
              "    .colab-df-convert {\n",
              "      background-color: #E8F0FE;\n",
              "      border: none;\n",
              "      border-radius: 50%;\n",
              "      cursor: pointer;\n",
              "      display: none;\n",
              "      fill: #1967D2;\n",
              "      height: 32px;\n",
              "      padding: 0 0 0 0;\n",
              "      width: 32px;\n",
              "    }\n",
              "\n",
              "    .colab-df-convert:hover {\n",
              "      background-color: #E2EBFA;\n",
              "      box-shadow: 0px 1px 2px rgba(60, 64, 67, 0.3), 0px 1px 3px 1px rgba(60, 64, 67, 0.15);\n",
              "      fill: #174EA6;\n",
              "    }\n",
              "\n",
              "    .colab-df-buttons div {\n",
              "      margin-bottom: 4px;\n",
              "    }\n",
              "\n",
              "    [theme=dark] .colab-df-convert {\n",
              "      background-color: #3B4455;\n",
              "      fill: #D2E3FC;\n",
              "    }\n",
              "\n",
              "    [theme=dark] .colab-df-convert:hover {\n",
              "      background-color: #434B5C;\n",
              "      box-shadow: 0px 1px 3px 1px rgba(0, 0, 0, 0.15);\n",
              "      filter: drop-shadow(0px 1px 2px rgba(0, 0, 0, 0.3));\n",
              "      fill: #FFFFFF;\n",
              "    }\n",
              "  </style>\n",
              "\n",
              "    <script>\n",
              "      const buttonEl =\n",
              "        document.querySelector('#df-14e17531-b550-4b2b-a5cc-569d110404da button.colab-df-convert');\n",
              "      buttonEl.style.display =\n",
              "        google.colab.kernel.accessAllowed ? 'block' : 'none';\n",
              "\n",
              "      async function convertToInteractive(key) {\n",
              "        const element = document.querySelector('#df-14e17531-b550-4b2b-a5cc-569d110404da');\n",
              "        const dataTable =\n",
              "          await google.colab.kernel.invokeFunction('convertToInteractive',\n",
              "                                                    [key], {});\n",
              "        if (!dataTable) return;\n",
              "\n",
              "        const docLinkHtml = 'Like what you see? Visit the ' +\n",
              "          '<a target=\"_blank\" href=https://colab.research.google.com/notebooks/data_table.ipynb>data table notebook</a>'\n",
              "          + ' to learn more about interactive tables.';\n",
              "        element.innerHTML = '';\n",
              "        dataTable['output_type'] = 'display_data';\n",
              "        await google.colab.output.renderOutput(dataTable, element);\n",
              "        const docLink = document.createElement('div');\n",
              "        docLink.innerHTML = docLinkHtml;\n",
              "        element.appendChild(docLink);\n",
              "      }\n",
              "    </script>\n",
              "  </div>\n",
              "\n",
              "\n",
              "<div id=\"df-db151840-e6ec-4b75-87b6-5727be0deac3\">\n",
              "  <button class=\"colab-df-quickchart\" onclick=\"quickchart('df-db151840-e6ec-4b75-87b6-5727be0deac3')\"\n",
              "            title=\"Suggest charts\"\n",
              "            style=\"display:none;\">\n",
              "\n",
              "<svg xmlns=\"http://www.w3.org/2000/svg\" height=\"24px\"viewBox=\"0 0 24 24\"\n",
              "     width=\"24px\">\n",
              "    <g>\n",
              "        <path d=\"M19 3H5c-1.1 0-2 .9-2 2v14c0 1.1.9 2 2 2h14c1.1 0 2-.9 2-2V5c0-1.1-.9-2-2-2zM9 17H7v-7h2v7zm4 0h-2V7h2v10zm4 0h-2v-4h2v4z\"/>\n",
              "    </g>\n",
              "</svg>\n",
              "  </button>\n",
              "\n",
              "<style>\n",
              "  .colab-df-quickchart {\n",
              "      --bg-color: #E8F0FE;\n",
              "      --fill-color: #1967D2;\n",
              "      --hover-bg-color: #E2EBFA;\n",
              "      --hover-fill-color: #174EA6;\n",
              "      --disabled-fill-color: #AAA;\n",
              "      --disabled-bg-color: #DDD;\n",
              "  }\n",
              "\n",
              "  [theme=dark] .colab-df-quickchart {\n",
              "      --bg-color: #3B4455;\n",
              "      --fill-color: #D2E3FC;\n",
              "      --hover-bg-color: #434B5C;\n",
              "      --hover-fill-color: #FFFFFF;\n",
              "      --disabled-bg-color: #3B4455;\n",
              "      --disabled-fill-color: #666;\n",
              "  }\n",
              "\n",
              "  .colab-df-quickchart {\n",
              "    background-color: var(--bg-color);\n",
              "    border: none;\n",
              "    border-radius: 50%;\n",
              "    cursor: pointer;\n",
              "    display: none;\n",
              "    fill: var(--fill-color);\n",
              "    height: 32px;\n",
              "    padding: 0;\n",
              "    width: 32px;\n",
              "  }\n",
              "\n",
              "  .colab-df-quickchart:hover {\n",
              "    background-color: var(--hover-bg-color);\n",
              "    box-shadow: 0 1px 2px rgba(60, 64, 67, 0.3), 0 1px 3px 1px rgba(60, 64, 67, 0.15);\n",
              "    fill: var(--button-hover-fill-color);\n",
              "  }\n",
              "\n",
              "  .colab-df-quickchart-complete:disabled,\n",
              "  .colab-df-quickchart-complete:disabled:hover {\n",
              "    background-color: var(--disabled-bg-color);\n",
              "    fill: var(--disabled-fill-color);\n",
              "    box-shadow: none;\n",
              "  }\n",
              "\n",
              "  .colab-df-spinner {\n",
              "    border: 2px solid var(--fill-color);\n",
              "    border-color: transparent;\n",
              "    border-bottom-color: var(--fill-color);\n",
              "    animation:\n",
              "      spin 1s steps(1) infinite;\n",
              "  }\n",
              "\n",
              "  @keyframes spin {\n",
              "    0% {\n",
              "      border-color: transparent;\n",
              "      border-bottom-color: var(--fill-color);\n",
              "      border-left-color: var(--fill-color);\n",
              "    }\n",
              "    20% {\n",
              "      border-color: transparent;\n",
              "      border-left-color: var(--fill-color);\n",
              "      border-top-color: var(--fill-color);\n",
              "    }\n",
              "    30% {\n",
              "      border-color: transparent;\n",
              "      border-left-color: var(--fill-color);\n",
              "      border-top-color: var(--fill-color);\n",
              "      border-right-color: var(--fill-color);\n",
              "    }\n",
              "    40% {\n",
              "      border-color: transparent;\n",
              "      border-right-color: var(--fill-color);\n",
              "      border-top-color: var(--fill-color);\n",
              "    }\n",
              "    60% {\n",
              "      border-color: transparent;\n",
              "      border-right-color: var(--fill-color);\n",
              "    }\n",
              "    80% {\n",
              "      border-color: transparent;\n",
              "      border-right-color: var(--fill-color);\n",
              "      border-bottom-color: var(--fill-color);\n",
              "    }\n",
              "    90% {\n",
              "      border-color: transparent;\n",
              "      border-bottom-color: var(--fill-color);\n",
              "    }\n",
              "  }\n",
              "</style>\n",
              "\n",
              "  <script>\n",
              "    async function quickchart(key) {\n",
              "      const quickchartButtonEl =\n",
              "        document.querySelector('#' + key + ' button');\n",
              "      quickchartButtonEl.disabled = true;  // To prevent multiple clicks.\n",
              "      quickchartButtonEl.classList.add('colab-df-spinner');\n",
              "      try {\n",
              "        const charts = await google.colab.kernel.invokeFunction(\n",
              "            'suggestCharts', [key], {});\n",
              "      } catch (error) {\n",
              "        console.error('Error during call to suggestCharts:', error);\n",
              "      }\n",
              "      quickchartButtonEl.classList.remove('colab-df-spinner');\n",
              "      quickchartButtonEl.classList.add('colab-df-quickchart-complete');\n",
              "    }\n",
              "    (() => {\n",
              "      let quickchartButtonEl =\n",
              "        document.querySelector('#df-db151840-e6ec-4b75-87b6-5727be0deac3 button');\n",
              "      quickchartButtonEl.style.display =\n",
              "        google.colab.kernel.accessAllowed ? 'block' : 'none';\n",
              "    })();\n",
              "  </script>\n",
              "</div>\n",
              "    </div>\n",
              "  </div>\n"
            ]
          },
          "metadata": {},
          "execution_count": 4
        }
      ]
    },
    {
      "cell_type": "markdown",
      "source": [
        "## **Data Cleaning**"
      ],
      "metadata": {
        "id": "1OvmzSbKgSin"
      }
    },
    {
      "cell_type": "code",
      "source": [
        "thyroid_df.rename(columns={'binaryClass':'Label'},inplace=True)"
      ],
      "metadata": {
        "execution": {
          "iopub.status.busy": "2024-02-08T14:14:28.636028Z",
          "iopub.execute_input": "2024-02-08T14:14:28.636388Z",
          "iopub.status.idle": "2024-02-08T14:14:28.642542Z",
          "shell.execute_reply.started": "2024-02-08T14:14:28.636348Z",
          "shell.execute_reply": "2024-02-08T14:14:28.641526Z"
        },
        "trusted": true,
        "id": "zDfJ8k2rgSin"
      },
      "execution_count": 5,
      "outputs": []
    },
    {
      "cell_type": "code",
      "source": [
        "thyroid_df.replace('?',np.nan,inplace=True)"
      ],
      "metadata": {
        "execution": {
          "iopub.status.busy": "2024-02-08T14:14:28.645382Z",
          "iopub.execute_input": "2024-02-08T14:14:28.646186Z",
          "iopub.status.idle": "2024-02-08T14:14:28.663141Z",
          "shell.execute_reply.started": "2024-02-08T14:14:28.64615Z",
          "shell.execute_reply": "2024-02-08T14:14:28.662338Z"
        },
        "trusted": true,
        "id": "tAPI0ULlgSio"
      },
      "execution_count": 6,
      "outputs": []
    },
    {
      "cell_type": "code",
      "source": [
        "thyroid_df.drop(['T3 measured','TSH measured','TT4 measured','T4U measured','FTI measured','TBG measured','TBG','referral source','on thyroxine','query on thyroxine','on antithyroid medication','query hypothyroid', 'query hyperthyroid','hypopituitary', 'psych'],axis=1,inplace=True)"
      ],
      "metadata": {
        "execution": {
          "iopub.status.busy": "2024-02-08T14:14:28.664638Z",
          "iopub.execute_input": "2024-02-08T14:14:28.664965Z",
          "iopub.status.idle": "2024-02-08T14:14:28.675547Z",
          "shell.execute_reply.started": "2024-02-08T14:14:28.664921Z",
          "shell.execute_reply": "2024-02-08T14:14:28.674691Z"
        },
        "trusted": true,
        "id": "s87zTqxdgSio"
      },
      "execution_count": 7,
      "outputs": []
    },
    {
      "cell_type": "code",
      "source": [
        "thyroid_df.info()"
      ],
      "metadata": {
        "execution": {
          "iopub.status.busy": "2024-02-08T14:14:28.677048Z",
          "iopub.execute_input": "2024-02-08T14:14:28.677378Z",
          "iopub.status.idle": "2024-02-08T14:14:28.697658Z",
          "shell.execute_reply.started": "2024-02-08T14:14:28.677323Z",
          "shell.execute_reply": "2024-02-08T14:14:28.696716Z"
        },
        "trusted": true,
        "colab": {
          "base_uri": "https://localhost:8080/"
        },
        "id": "dD6EAg6ZgSio",
        "outputId": "d6e05467-a9ee-4a36-b152-e44573b91d59"
      },
      "execution_count": 8,
      "outputs": [
        {
          "output_type": "stream",
          "name": "stdout",
          "text": [
            "<class 'pandas.core.frame.DataFrame'>\n",
            "RangeIndex: 3772 entries, 0 to 3771\n",
            "Data columns (total 15 columns):\n",
            " #   Column           Non-Null Count  Dtype \n",
            "---  ------           --------------  ----- \n",
            " 0   age              3771 non-null   object\n",
            " 1   sex              3622 non-null   object\n",
            " 2   sick             3772 non-null   object\n",
            " 3   pregnant         3772 non-null   object\n",
            " 4   thyroid surgery  3772 non-null   object\n",
            " 5   I131 treatment   3772 non-null   object\n",
            " 6   lithium          3772 non-null   object\n",
            " 7   goitre           3772 non-null   object\n",
            " 8   tumor            3772 non-null   object\n",
            " 9   TSH              3403 non-null   object\n",
            " 10  T3               3003 non-null   object\n",
            " 11  TT4              3541 non-null   object\n",
            " 12  T4U              3385 non-null   object\n",
            " 13  FTI              3387 non-null   object\n",
            " 14  Label            3772 non-null   object\n",
            "dtypes: object(15)\n",
            "memory usage: 442.2+ KB\n"
          ]
        }
      ]
    },
    {
      "cell_type": "code",
      "source": [
        "thyroid_df['thyroid surgery'].value_counts()"
      ],
      "metadata": {
        "execution": {
          "iopub.status.busy": "2024-02-08T14:14:28.699299Z",
          "iopub.execute_input": "2024-02-08T14:14:28.69965Z",
          "iopub.status.idle": "2024-02-08T14:14:28.708356Z",
          "shell.execute_reply.started": "2024-02-08T14:14:28.699605Z",
          "shell.execute_reply": "2024-02-08T14:14:28.707467Z"
        },
        "trusted": true,
        "colab": {
          "base_uri": "https://localhost:8080/"
        },
        "id": "w9guxl-rgSio",
        "outputId": "cffb3efd-83f2-4cbb-ad9a-6ca3d7972d10"
      },
      "execution_count": 9,
      "outputs": [
        {
          "output_type": "execute_result",
          "data": {
            "text/plain": [
              "f    3719\n",
              "t      53\n",
              "Name: thyroid surgery, dtype: int64"
            ]
          },
          "metadata": {},
          "execution_count": 9
        }
      ]
    },
    {
      "cell_type": "code",
      "source": [
        "cols = ['age','FTI','TSH','T3','TT4','T4U']\n",
        "for i in cols:\n",
        "    thyroid_df[i] = pd.to_numeric(thyroid_df[i])"
      ],
      "metadata": {
        "execution": {
          "iopub.status.busy": "2024-02-08T14:14:28.709544Z",
          "iopub.execute_input": "2024-02-08T14:14:28.709801Z",
          "iopub.status.idle": "2024-02-08T14:14:28.740172Z",
          "shell.execute_reply.started": "2024-02-08T14:14:28.709758Z",
          "shell.execute_reply": "2024-02-08T14:14:28.739313Z"
        },
        "trusted": true,
        "id": "kdi9TFklgSio"
      },
      "execution_count": 10,
      "outputs": []
    },
    {
      "cell_type": "code",
      "source": [
        "\n",
        "\n",
        "thyroid_df.info()"
      ],
      "metadata": {
        "execution": {
          "iopub.status.busy": "2024-02-08T14:14:28.741393Z",
          "iopub.execute_input": "2024-02-08T14:14:28.742279Z",
          "iopub.status.idle": "2024-02-08T14:14:28.764089Z",
          "shell.execute_reply.started": "2024-02-08T14:14:28.742238Z",
          "shell.execute_reply": "2024-02-08T14:14:28.763451Z"
        },
        "trusted": true,
        "colab": {
          "base_uri": "https://localhost:8080/"
        },
        "id": "Vf6X9cJ6gSio",
        "outputId": "9e2666ed-1e37-47e3-e996-d9c1ff6a565c"
      },
      "execution_count": 11,
      "outputs": [
        {
          "output_type": "stream",
          "name": "stdout",
          "text": [
            "<class 'pandas.core.frame.DataFrame'>\n",
            "RangeIndex: 3772 entries, 0 to 3771\n",
            "Data columns (total 15 columns):\n",
            " #   Column           Non-Null Count  Dtype  \n",
            "---  ------           --------------  -----  \n",
            " 0   age              3771 non-null   float64\n",
            " 1   sex              3622 non-null   object \n",
            " 2   sick             3772 non-null   object \n",
            " 3   pregnant         3772 non-null   object \n",
            " 4   thyroid surgery  3772 non-null   object \n",
            " 5   I131 treatment   3772 non-null   object \n",
            " 6   lithium          3772 non-null   object \n",
            " 7   goitre           3772 non-null   object \n",
            " 8   tumor            3772 non-null   object \n",
            " 9   TSH              3403 non-null   float64\n",
            " 10  T3               3003 non-null   float64\n",
            " 11  TT4              3541 non-null   float64\n",
            " 12  T4U              3385 non-null   float64\n",
            " 13  FTI              3387 non-null   float64\n",
            " 14  Label            3772 non-null   object \n",
            "dtypes: float64(6), object(9)\n",
            "memory usage: 442.2+ KB\n"
          ]
        }
      ]
    },
    {
      "cell_type": "markdown",
      "source": [
        "## **Handle Missing Values**"
      ],
      "metadata": {
        "id": "ib9nTWhjgSip"
      }
    },
    {
      "cell_type": "code",
      "source": [
        "thyroid_df.isnull().sum()"
      ],
      "metadata": {
        "execution": {
          "iopub.status.busy": "2024-02-08T14:14:28.764955Z",
          "iopub.execute_input": "2024-02-08T14:14:28.765568Z",
          "iopub.status.idle": "2024-02-08T14:14:28.778695Z",
          "shell.execute_reply.started": "2024-02-08T14:14:28.765533Z",
          "shell.execute_reply": "2024-02-08T14:14:28.777705Z"
        },
        "trusted": true,
        "colab": {
          "base_uri": "https://localhost:8080/"
        },
        "id": "Au9LGkc5gSip",
        "outputId": "7f375c36-a622-45fd-b351-a15214bed6d3"
      },
      "execution_count": 12,
      "outputs": [
        {
          "output_type": "execute_result",
          "data": {
            "text/plain": [
              "age                  1\n",
              "sex                150\n",
              "sick                 0\n",
              "pregnant             0\n",
              "thyroid surgery      0\n",
              "I131 treatment       0\n",
              "lithium              0\n",
              "goitre               0\n",
              "tumor                0\n",
              "TSH                369\n",
              "T3                 769\n",
              "TT4                231\n",
              "T4U                387\n",
              "FTI                385\n",
              "Label                0\n",
              "dtype: int64"
            ]
          },
          "metadata": {},
          "execution_count": 12
        }
      ]
    },
    {
      "cell_type": "code",
      "source": [
        "miss_cols = ['FTI','TSH','T3','TT4','T4U']\n",
        "for i in miss_cols:\n",
        "    thyroid_df[i] = thyroid_df[i].fillna(thyroid_df[i].mean())"
      ],
      "metadata": {
        "execution": {
          "iopub.status.busy": "2024-02-08T14:14:28.780053Z",
          "iopub.execute_input": "2024-02-08T14:14:28.780283Z",
          "iopub.status.idle": "2024-02-08T14:14:28.787854Z",
          "shell.execute_reply.started": "2024-02-08T14:14:28.780254Z",
          "shell.execute_reply": "2024-02-08T14:14:28.786934Z"
        },
        "trusted": true,
        "id": "n4z0gEETgSip"
      },
      "execution_count": 13,
      "outputs": []
    },
    {
      "cell_type": "code",
      "source": [
        "\n",
        "\n",
        "thyroid_df.dropna(inplace=True)"
      ],
      "metadata": {
        "execution": {
          "iopub.status.busy": "2024-02-08T14:14:28.789297Z",
          "iopub.execute_input": "2024-02-08T14:14:28.789646Z",
          "iopub.status.idle": "2024-02-08T14:14:28.804038Z",
          "shell.execute_reply.started": "2024-02-08T14:14:28.789612Z",
          "shell.execute_reply": "2024-02-08T14:14:28.803208Z"
        },
        "trusted": true,
        "id": "gDbLdn83gSip"
      },
      "execution_count": 14,
      "outputs": []
    },
    {
      "cell_type": "code",
      "source": [
        "thyroid_df.isnull().sum()"
      ],
      "metadata": {
        "execution": {
          "iopub.status.busy": "2024-02-08T14:14:28.808921Z",
          "iopub.execute_input": "2024-02-08T14:14:28.809683Z",
          "iopub.status.idle": "2024-02-08T14:14:28.822306Z",
          "shell.execute_reply.started": "2024-02-08T14:14:28.80963Z",
          "shell.execute_reply": "2024-02-08T14:14:28.821255Z"
        },
        "trusted": true,
        "colab": {
          "base_uri": "https://localhost:8080/"
        },
        "id": "WyK5z6kKgSip",
        "outputId": "9210f8b2-0cc8-41bd-a24b-a3c79251bf83"
      },
      "execution_count": 15,
      "outputs": [
        {
          "output_type": "execute_result",
          "data": {
            "text/plain": [
              "age                0\n",
              "sex                0\n",
              "sick               0\n",
              "pregnant           0\n",
              "thyroid surgery    0\n",
              "I131 treatment     0\n",
              "lithium            0\n",
              "goitre             0\n",
              "tumor              0\n",
              "TSH                0\n",
              "T3                 0\n",
              "TT4                0\n",
              "T4U                0\n",
              "FTI                0\n",
              "Label              0\n",
              "dtype: int64"
            ]
          },
          "metadata": {},
          "execution_count": 15
        }
      ]
    },
    {
      "cell_type": "code",
      "source": [
        "thyroid_df = thyroid_df.drop(1364)"
      ],
      "metadata": {
        "execution": {
          "iopub.status.busy": "2024-02-08T14:14:28.823671Z",
          "iopub.execute_input": "2024-02-08T14:14:28.823926Z",
          "iopub.status.idle": "2024-02-08T14:14:28.830532Z",
          "shell.execute_reply.started": "2024-02-08T14:14:28.823895Z",
          "shell.execute_reply": "2024-02-08T14:14:28.82967Z"
        },
        "trusted": true,
        "id": "zMWbG_P_gSip"
      },
      "execution_count": 16,
      "outputs": []
    },
    {
      "cell_type": "code",
      "source": [
        "thyroid_df.TT4 = thyroid_df.TT4.astype(int)\n",
        "thyroid_df.FTI = thyroid_df.FTI.astype(int)\n",
        "thyroid_df.age = thyroid_df.age.astype(int)"
      ],
      "metadata": {
        "execution": {
          "iopub.status.busy": "2024-02-08T14:14:28.831851Z",
          "iopub.execute_input": "2024-02-08T14:14:28.832172Z",
          "iopub.status.idle": "2024-02-08T14:14:28.841899Z",
          "shell.execute_reply.started": "2024-02-08T14:14:28.832096Z",
          "shell.execute_reply": "2024-02-08T14:14:28.84117Z"
        },
        "trusted": true,
        "id": "qG0v96_8gSip"
      },
      "execution_count": 17,
      "outputs": []
    },
    {
      "cell_type": "markdown",
      "source": [
        "## **EDA**"
      ],
      "metadata": {
        "id": "AmeUA0WTgSip"
      }
    },
    {
      "cell_type": "code",
      "source": [
        "sns.countplot(x='Label',data=thyroid_df)\n",
        "plt.title(\"Countplot for Target variable\");"
      ],
      "metadata": {
        "execution": {
          "iopub.status.busy": "2024-02-08T14:14:28.843266Z",
          "iopub.execute_input": "2024-02-08T14:14:28.843634Z",
          "iopub.status.idle": "2024-02-08T14:14:29.080627Z",
          "shell.execute_reply.started": "2024-02-08T14:14:28.843592Z",
          "shell.execute_reply": "2024-02-08T14:14:29.079733Z"
        },
        "trusted": true,
        "colab": {
          "base_uri": "https://localhost:8080/",
          "height": 472
        },
        "id": "CfGlCOx8gSiq",
        "outputId": "ddc5b3a7-c793-45df-9a5a-2076e78a7b9a"
      },
      "execution_count": 18,
      "outputs": [
        {
          "output_type": "display_data",
          "data": {
            "text/plain": [
              "<Figure size 640x480 with 1 Axes>"
            ],
            "image/png": "[encoded data removed]"
          },
          "metadata": {}
        }
      ]
    },
    {
      "cell_type": "code",
      "source": [
        "\n",
        "\n",
        "\n",
        "\n",
        "positive_df = thyroid_df[thyroid_df.Label=='P']"
      ],
      "metadata": {
        "execution": {
          "iopub.status.busy": "2024-02-08T14:14:29.082161Z",
          "iopub.execute_input": "2024-02-08T14:14:29.082496Z",
          "iopub.status.idle": "2024-02-08T14:14:29.090146Z",
          "shell.execute_reply.started": "2024-02-08T14:14:29.082451Z",
          "shell.execute_reply": "2024-02-08T14:14:29.089288Z"
        },
        "trusted": true,
        "id": "HKSum7l1gSiq"
      },
      "execution_count": 19,
      "outputs": []
    },
    {
      "cell_type": "code",
      "source": [
        "plt.figure(figsize=(9,6))\n",
        "sns.histplot(x='age',data=positive_df,color='blue')\n",
        "plt.title(\"Distribution of Positive Class Based on Age\",{'fontsize':20});"
      ],
      "metadata": {
        "execution": {
          "iopub.status.busy": "2024-02-08T14:14:29.091511Z",
          "iopub.execute_input": "2024-02-08T14:14:29.091848Z",
          "iopub.status.idle": "2024-02-08T14:14:29.426539Z",
          "shell.execute_reply.started": "2024-02-08T14:14:29.091801Z",
          "shell.execute_reply": "2024-02-08T14:14:29.425838Z"
        },
        "trusted": true,
        "colab": {
          "base_uri": "https://localhost:8080/",
          "height": 572
        },
        "id": "6EOKUnF7gSiq",
        "outputId": "e91c7d83-9b17-498e-fd2c-a782aba1c189"
      },
      "execution_count": 20,
      "outputs": [
        {
          "output_type": "display_data",
          "data": {
            "text/plain": [
              "<Figure size 900x600 with 1 Axes>"
            ],
            "image/png": "[encoded data removed]"
          },
          "metadata": {}
        }
      ]
    },
    {
      "cell_type": "code",
      "source": [
        "plt.figure(figsize=(10,8))\n",
        "plt.pie(x=positive_df.sex.value_counts(),\n",
        "        labels=['Female','Male'],\n",
        "        startangle = 90,\n",
        "        colors=['springgreen','orange'],\n",
        "        autopct='%.2f'\n",
        "       );\n",
        "plt.legend();"
      ],
      "metadata": {
        "execution": {
          "iopub.status.busy": "2024-02-08T14:14:29.427813Z",
          "iopub.execute_input": "2024-02-08T14:14:29.42804Z",
          "iopub.status.idle": "2024-02-08T14:14:29.620045Z",
          "shell.execute_reply.started": "2024-02-08T14:14:29.42801Z",
          "shell.execute_reply": "2024-02-08T14:14:29.619153Z"
        },
        "trusted": true,
        "colab": {
          "base_uri": "https://localhost:8080/",
          "height": 653
        },
        "id": "ZWJURv6QgSiq",
        "outputId": "8f87069f-b42b-4fb6-fbf0-5647911de86d"
      },
      "execution_count": 21,
      "outputs": [
        {
          "output_type": "display_data",
          "data": {
            "text/plain": [
              "<Figure size 1000x800 with 1 Axes>"
            ],
            "image/png": "[encoded data removed]"
          },
          "metadata": {}
        }
      ]
    },
    {
      "cell_type": "markdown",
      "source": [
        "## **Inference :**\n",
        "### Female patients who has disease is greater than male patients."
      ],
      "metadata": {
        "id": "nC_YfAbXgSiq"
      }
    },
    {
      "cell_type": "code",
      "source": [
        "plt.figure(figsize=(8,8))\n",
        "plt.pie(x=positive_df.sick.value_counts(),\n",
        "        labels=['Sick','Well'],\n",
        "        startangle = 20,\n",
        "        colors=['deepskyblue','red'],\n",
        "        autopct='%.2f',\n",
        "        explode=[0,0.2]\n",
        "       );\n",
        "plt.legend();"
      ],
      "metadata": {
        "execution": {
          "iopub.status.busy": "2024-02-08T14:14:29.621494Z",
          "iopub.execute_input": "2024-02-08T14:14:29.621821Z",
          "iopub.status.idle": "2024-02-08T14:14:29.850214Z",
          "shell.execute_reply.started": "2024-02-08T14:14:29.621774Z",
          "shell.execute_reply": "2024-02-08T14:14:29.849381Z"
        },
        "trusted": true,
        "colab": {
          "base_uri": "https://localhost:8080/",
          "height": 653
        },
        "id": "4K3_pFgggSiq",
        "outputId": "bd7188d0-9f47-47be-ff37-32f85ab43530"
      },
      "execution_count": 22,
      "outputs": [
        {
          "output_type": "display_data",
          "data": {
            "text/plain": [
              "<Figure size 800x800 with 1 Axes>"
            ],
            "image/png": "[encoded data removed]"
          },
          "metadata": {}
        }
      ]
    },
    {
      "cell_type": "code",
      "source": [
        "X = thyroid_df.drop('Label',axis=1)\n",
        "y = thyroid_df.Label"
      ],
      "metadata": {
        "execution": {
          "iopub.status.busy": "2024-02-08T14:14:29.851705Z",
          "iopub.execute_input": "2024-02-08T14:14:29.852046Z",
          "iopub.status.idle": "2024-02-08T14:14:29.859293Z",
          "shell.execute_reply.started": "2024-02-08T14:14:29.852002Z",
          "shell.execute_reply": "2024-02-08T14:14:29.858104Z"
        },
        "trusted": true,
        "id": "vz3KA8l8gSiq"
      },
      "execution_count": 23,
      "outputs": []
    },
    {
      "cell_type": "markdown",
      "source": [
        "## **Transform non-numerical labels to numerical labels.**"
      ],
      "metadata": {
        "id": "m-JNRCvIgSir"
      }
    },
    {
      "cell_type": "code",
      "source": [
        "s_encoder = LabelEncoder()\n",
        "si_encoder = LabelEncoder()\n",
        "preg_encoder = LabelEncoder()\n",
        "th_encoder = LabelEncoder()\n",
        "treat_encoder = LabelEncoder()\n",
        "lith_encoder = LabelEncoder()\n",
        "g_encoder= LabelEncoder()\n",
        "tu_encoder = LabelEncoder()"
      ],
      "metadata": {
        "execution": {
          "iopub.status.busy": "2024-02-08T14:14:29.860858Z",
          "iopub.execute_input": "2024-02-08T14:14:29.861266Z",
          "iopub.status.idle": "2024-02-08T14:14:29.869894Z",
          "shell.execute_reply.started": "2024-02-08T14:14:29.861221Z",
          "shell.execute_reply": "2024-02-08T14:14:29.869104Z"
        },
        "trusted": true,
        "id": "fkMeUtolgSir"
      },
      "execution_count": 24,
      "outputs": []
    },
    {
      "cell_type": "code",
      "source": [
        "X['sex'] = s_encoder.fit_transform(X.sex)\n",
        "X['I131 treatment'] = treat_encoder.fit_transform(X['I131 treatment'])\n",
        "X['sick'] = si_encoder.fit_transform(X.sick)\n",
        "X['pregnant'] = preg_encoder.fit_transform(X.pregnant)\n",
        "X['thyroid surgery'] = th_encoder.fit_transform(X['thyroid surgery'])\n",
        "X['lithium'] = lith_encoder.fit_transform(X['lithium'])\n",
        "X['goitre'] = g_encoder.fit_transform(X['goitre'])\n",
        "X['tumor'] = tu_encoder.fit_transform(X['tumor'])"
      ],
      "metadata": {
        "execution": {
          "iopub.status.busy": "2024-02-08T14:14:29.871264Z",
          "iopub.execute_input": "2024-02-08T14:14:29.871589Z",
          "iopub.status.idle": "2024-02-08T14:14:29.897307Z",
          "shell.execute_reply.started": "2024-02-08T14:14:29.871555Z",
          "shell.execute_reply": "2024-02-08T14:14:29.896688Z"
        },
        "trusted": true,
        "id": "oUkxsltEgSir"
      },
      "execution_count": 25,
      "outputs": []
    },
    {
      "cell_type": "code",
      "source": [
        "def func(df):\n",
        "    if df == 'P':\n",
        "        return 1\n",
        "    else:\n",
        "        return 0"
      ],
      "metadata": {
        "execution": {
          "iopub.status.busy": "2024-02-08T14:14:29.898483Z",
          "iopub.execute_input": "2024-02-08T14:14:29.89936Z",
          "iopub.status.idle": "2024-02-08T14:14:29.907832Z",
          "shell.execute_reply.started": "2024-02-08T14:14:29.899315Z",
          "shell.execute_reply": "2024-02-08T14:14:29.906984Z"
        },
        "trusted": true,
        "id": "ahDc2TlcgSir"
      },
      "execution_count": 26,
      "outputs": []
    },
    {
      "cell_type": "code",
      "source": [
        "y = y.apply(func)"
      ],
      "metadata": {
        "execution": {
          "iopub.status.busy": "2024-02-08T14:14:29.90881Z",
          "iopub.execute_input": "2024-02-08T14:14:29.909039Z",
          "iopub.status.idle": "2024-02-08T14:14:29.921127Z",
          "shell.execute_reply.started": "2024-02-08T14:14:29.90901Z",
          "shell.execute_reply": "2024-02-08T14:14:29.920221Z"
        },
        "trusted": true,
        "id": "_MCIDhNPgSir"
      },
      "execution_count": 27,
      "outputs": []
    },
    {
      "cell_type": "markdown",
      "source": [
        "## **Split original data into training data and testing data.**"
      ],
      "metadata": {
        "id": "xuPlKwDsgSis"
      }
    },
    {
      "cell_type": "code",
      "source": [
        "X_train,X_test,y_train,y_test = train_test_split(X,y,test_size=0.2,random_state=11)"
      ],
      "metadata": {
        "execution": {
          "iopub.status.busy": "2024-02-08T14:14:29.922219Z",
          "iopub.execute_input": "2024-02-08T14:14:29.922477Z",
          "iopub.status.idle": "2024-02-08T14:14:29.934312Z",
          "shell.execute_reply.started": "2024-02-08T14:14:29.922439Z",
          "shell.execute_reply": "2024-02-08T14:14:29.933656Z"
        },
        "trusted": true,
        "id": "JOsmMSGSgSiu"
      },
      "execution_count": 28,
      "outputs": []
    },
    {
      "cell_type": "markdown",
      "source": [
        "## **Handle Imbalance Data**"
      ],
      "metadata": {
        "id": "peYZaomCgSiu"
      }
    },
    {
      "cell_type": "code",
      "source": [
        "smote = SMOTE(random_state=11)\n",
        "\n",
        "x_smote, y_smote = smote.fit_resample(X_train, y_train)"
      ],
      "metadata": {
        "execution": {
          "iopub.status.busy": "2024-02-08T14:14:29.936114Z",
          "iopub.execute_input": "2024-02-08T14:14:29.936604Z",
          "iopub.status.idle": "2024-02-08T14:14:29.957228Z",
          "shell.execute_reply.started": "2024-02-08T14:14:29.936432Z",
          "shell.execute_reply": "2024-02-08T14:14:29.956339Z"
        },
        "trusted": true,
        "id": "BqomonrFgSiu"
      },
      "execution_count": 29,
      "outputs": []
    },
    {
      "cell_type": "code",
      "source": [
        "print(\"Shape before the Oversampling : \",X_train.shape)\n",
        "print(\"Shape after the Oversampling : \",x_smote.shape)\n"
      ],
      "metadata": {
        "execution": {
          "iopub.status.busy": "2024-02-08T14:14:29.958612Z",
          "iopub.execute_input": "2024-02-08T14:14:29.958844Z",
          "iopub.status.idle": "2024-02-08T14:14:29.964204Z",
          "shell.execute_reply.started": "2024-02-08T14:14:29.958815Z",
          "shell.execute_reply": "2024-02-08T14:14:29.963255Z"
        },
        "trusted": true,
        "colab": {
          "base_uri": "https://localhost:8080/"
        },
        "id": "MlmO1S2DgSiu",
        "outputId": "f86fbf46-5ba9-4a93-b92f-585b5554fc9b"
      },
      "execution_count": 30,
      "outputs": [
        {
          "output_type": "stream",
          "name": "stdout",
          "text": [
            "Shape before the Oversampling :  (2896, 14)\n",
            "Shape after the Oversampling :  (5340, 14)\n"
          ]
        }
      ]
    },
    {
      "cell_type": "markdown",
      "source": [
        "Scaling (Normalization)"
      ],
      "metadata": {
        "id": "C_c9rJY4gSiu"
      }
    },
    {
      "cell_type": "code",
      "source": [
        "scalr = MinMaxScaler()\n",
        "x_smote.TT4 = scalr.fit_transform(x_smote[['TT4']])\n",
        "x_smote.age = scalr.fit_transform(x_smote[['age']])\n",
        "x_smote.FTI = scalr.fit_transform(x_smote[['FTI']])"
      ],
      "metadata": {
        "execution": {
          "iopub.status.busy": "2024-02-08T14:14:29.965642Z",
          "iopub.execute_input": "2024-02-08T14:14:29.965947Z",
          "iopub.status.idle": "2024-02-08T14:14:29.987726Z",
          "shell.execute_reply.started": "2024-02-08T14:14:29.965886Z",
          "shell.execute_reply": "2024-02-08T14:14:29.986947Z"
        },
        "trusted": true,
        "id": "aPktdu85gSiu"
      },
      "execution_count": 31,
      "outputs": []
    },
    {
      "cell_type": "code",
      "source": [
        "print(X_test.columns)"
      ],
      "metadata": {
        "colab": {
          "base_uri": "https://localhost:8080/"
        },
        "id": "3_rn3CElgZ-O",
        "outputId": "4ad08f52-caf3-493d-d019-43f25fcbcdd7"
      },
      "execution_count": 32,
      "outputs": [
        {
          "output_type": "stream",
          "name": "stdout",
          "text": [
            "Index(['age', 'sex', 'sick', 'pregnant', 'thyroid surgery', 'I131 treatment',\n",
            "       'lithium', 'goitre', 'tumor', 'TSH', 'T3', 'TT4', 'T4U', 'FTI'],\n",
            "      dtype='object')\n"
          ]
        }
      ]
    },
    {
      "cell_type": "code",
      "source": [
        "X_test.TT4 = scalr.fit_transform(X_test[['TT4']])\n",
        "X_test.age = scalr.fit_transform(X_test[['age']])\n",
        "X_test.FTI = scalr.fit_transform(X_test[['FTI']])"
      ],
      "metadata": {
        "execution": {
          "iopub.status.busy": "2024-02-08T14:14:29.988789Z",
          "iopub.execute_input": "2024-02-08T14:14:29.989013Z",
          "iopub.status.idle": "2024-02-08T14:14:30.003531Z",
          "shell.execute_reply.started": "2024-02-08T14:14:29.988984Z",
          "shell.execute_reply": "2024-02-08T14:14:30.00258Z"
        },
        "trusted": true,
        "id": "hmjM8FHfgSiu"
      },
      "execution_count": 33,
      "outputs": []
    },
    {
      "cell_type": "markdown",
      "source": [
        "## **Build Models.**"
      ],
      "metadata": {
        "id": "JXbh8o_FgSiv"
      }
    },
    {
      "cell_type": "code",
      "source": [
        "models = {\n",
        "    LogisticRegression(max_iter=500):'Logistic Regression',\n",
        "    SVC():\"Support Vector Machine\",\n",
        "    RandomForestClassifier():'Random Forest'\n",
        "}\n",
        "for m in models.keys():\n",
        "    m.fit(x_smote,y_smote)\n",
        "for model,name in models.items():\n",
        "     print(f\"Accuracy Score for {name} is : \",model.score(X_test,y_test)*100,\"%\")"
      ],
      "metadata": {
        "execution": {
          "iopub.status.busy": "2024-02-08T14:14:30.004706Z",
          "iopub.execute_input": "2024-02-08T14:14:30.004937Z",
          "iopub.status.idle": "2024-02-08T14:14:31.365769Z",
          "shell.execute_reply.started": "2024-02-08T14:14:30.004909Z",
          "shell.execute_reply": "2024-02-08T14:14:31.364616Z"
        },
        "trusted": true,
        "colab": {
          "base_uri": "https://localhost:8080/"
        },
        "id": "fAK3E7M6gSiv",
        "outputId": "d27a1694-cd8c-41eb-f70a-774c6cce4e80"
      },
      "execution_count": 34,
      "outputs": [
        {
          "output_type": "stream",
          "name": "stdout",
          "text": [
            "Accuracy Score for Logistic Regression is :  97.65193370165746 %\n",
            "Accuracy Score for Support Vector Machine is :  98.20441988950276 %\n",
            "Accuracy Score for Random Forest is :  96.13259668508287 %\n"
          ]
        }
      ]
    },
    {
      "cell_type": "markdown",
      "source": [
        "## **Inference :**\n",
        "### The most of patients who suffer from thyroid belonging to age group between 50-70"
      ],
      "metadata": {
        "id": "Tr-s9a0xgSiv"
      }
    },
    {
      "cell_type": "markdown",
      "source": [
        "## **Classification Report for each model.**"
      ],
      "metadata": {
        "id": "jpxYX35zgSiv"
      }
    },
    {
      "cell_type": "code",
      "source": [
        "for model,name in models.items():\n",
        "    y_pred = model.predict(X_test)\n",
        "    print(f\"Classification Report for {name}\")\n",
        "    print(\"----------------------------------------------------------\")\n",
        "    print(classification_report(y_test,y_pred))\n",
        "    print(\"----------------------------------------------------------\")"
      ],
      "metadata": {
        "execution": {
          "iopub.status.busy": "2024-02-08T14:14:31.367648Z",
          "iopub.execute_input": "2024-02-08T14:14:31.368325Z",
          "iopub.status.idle": "2024-02-08T14:14:31.507426Z",
          "shell.execute_reply.started": "2024-02-08T14:14:31.368267Z",
          "shell.execute_reply": "2024-02-08T14:14:31.506741Z"
        },
        "trusted": true,
        "colab": {
          "base_uri": "https://localhost:8080/"
        },
        "id": "vHScEpOwgSiv",
        "outputId": "6faf2957-a0c5-4dab-d071-bf5c72c2ebf6"
      },
      "execution_count": 35,
      "outputs": [
        {
          "output_type": "stream",
          "name": "stdout",
          "text": [
            "Classification Report for Logistic Regression\n",
            "----------------------------------------------------------\n",
            "              precision    recall  f1-score   support\n",
            "\n",
            "           0       0.89      0.78      0.83        54\n",
            "           1       0.98      0.99      0.99       670\n",
            "\n",
            "    accuracy                           0.98       724\n",
            "   macro avg       0.94      0.89      0.91       724\n",
            "weighted avg       0.98      0.98      0.98       724\n",
            "\n",
            "----------------------------------------------------------\n",
            "Classification Report for Support Vector Machine\n",
            "----------------------------------------------------------\n",
            "              precision    recall  f1-score   support\n",
            "\n",
            "           0       0.82      0.98      0.89        54\n",
            "           1       1.00      0.98      0.99       670\n",
            "\n",
            "    accuracy                           0.98       724\n",
            "   macro avg       0.91      0.98      0.94       724\n",
            "weighted avg       0.98      0.98      0.98       724\n",
            "\n",
            "----------------------------------------------------------\n",
            "Classification Report for Random Forest\n",
            "----------------------------------------------------------\n",
            "              precision    recall  f1-score   support\n",
            "\n",
            "           0       1.00      0.48      0.65        54\n",
            "           1       0.96      1.00      0.98       670\n",
            "\n",
            "    accuracy                           0.96       724\n",
            "   macro avg       0.98      0.74      0.81       724\n",
            "weighted avg       0.96      0.96      0.95       724\n",
            "\n",
            "----------------------------------------------------------\n"
          ]
        }
      ]
    },
    {
      "cell_type": "code",
      "source": [
        "rf = RandomForestClassifier()\n",
        "rf.fit(x_smote,y_smote)\n",
        "rf.score(X_test,y_test)"
      ],
      "metadata": {
        "execution": {
          "iopub.status.busy": "2024-02-08T14:14:31.508389Z",
          "iopub.execute_input": "2024-02-08T14:14:31.508774Z",
          "iopub.status.idle": "2024-02-08T14:14:32.130678Z",
          "shell.execute_reply.started": "2024-02-08T14:14:31.508742Z",
          "shell.execute_reply": "2024-02-08T14:14:32.129806Z"
        },
        "trusted": true,
        "colab": {
          "base_uri": "https://localhost:8080/"
        },
        "id": "DTRzgGeZgSiv",
        "outputId": "329e394d-4186-4a68-a2d0-d396d5af3e4e"
      },
      "execution_count": 36,
      "outputs": [
        {
          "output_type": "execute_result",
          "data": {
            "text/plain": [
              "0.962707182320442"
            ]
          },
          "metadata": {},
          "execution_count": 36
        }
      ]
    },
    {
      "cell_type": "code",
      "source": [
        "plt.figure(figsize=(9,7))\n",
        "feature_imp1 = rf.feature_importances_\n",
        "sns.barplot(x=feature_imp1, y=X.columns)\n",
        "plt.xlabel('Feature Importance Score')\n",
        "plt.ylabel('Features')\n",
        "plt.title(\"Visualizing Important Features For Random Forest \",{'fontsize':25})\n",
        "plt.show();"
      ],
      "metadata": {
        "execution": {
          "iopub.status.busy": "2024-02-08T14:14:32.132103Z",
          "iopub.execute_input": "2024-02-08T14:14:32.132749Z",
          "iopub.status.idle": "2024-02-08T14:14:32.496881Z",
          "shell.execute_reply.started": "2024-02-08T14:14:32.1327Z",
          "shell.execute_reply": "2024-02-08T14:14:32.495917Z"
        },
        "trusted": true,
        "colab": {
          "base_uri": "https://localhost:8080/",
          "height": 654
        },
        "id": "WFPKCnDMgSiv",
        "outputId": "2a0a6788-a26a-41d1-d0fa-1a9e4d49f3f1"
      },
      "execution_count": 37,
      "outputs": [
        {
          "output_type": "display_data",
          "data": {
            "text/plain": [
              "<Figure size 900x700 with 1 Axes>"
            ],
            "image/png": "[encoded data removed]"
          },
          "metadata": {}
        }
      ]
    },
    {
      "cell_type": "code",
      "source": [
        "x_smote.drop(['sick', 'pregnant', 'I131 treatment',\n",
        "              'lithium', 'goitre', 'tumor'], axis=1, inplace=True)\n",
        "X_test.drop(['sick', 'pregnant', 'I131 treatment',\n",
        "              'lithium', 'goitre', 'tumor'], axis=1, inplace=True)\n"
      ],
      "metadata": {
        "execution": {
          "iopub.status.busy": "2024-02-08T14:14:32.498111Z",
          "iopub.execute_input": "2024-02-08T14:14:32.49865Z",
          "iopub.status.idle": "2024-02-08T14:14:32.505873Z",
          "shell.execute_reply.started": "2024-02-08T14:14:32.498615Z",
          "shell.execute_reply": "2024-02-08T14:14:32.505105Z"
        },
        "trusted": true,
        "id": "Tbo7LrjggSiv"
      },
      "execution_count": 38,
      "outputs": []
    },
    {
      "cell_type": "code",
      "source": [
        "new_rf = RandomForestClassifier()\n",
        "new_rf.fit(x_smote,y_smote)\n",
        "new_rf.score(X_test,y_test)"
      ],
      "metadata": {
        "execution": {
          "iopub.status.busy": "2024-02-08T14:14:32.507015Z",
          "iopub.execute_input": "2024-02-08T14:14:32.507257Z",
          "iopub.status.idle": "2024-02-08T14:14:33.125842Z",
          "shell.execute_reply.started": "2024-02-08T14:14:32.507208Z",
          "shell.execute_reply": "2024-02-08T14:14:33.124915Z"
        },
        "trusted": true,
        "colab": {
          "base_uri": "https://localhost:8080/"
        },
        "id": "IQAuTPYCgSiv",
        "outputId": "8281207b-2fdc-4837-8db5-12d517340fe4"
      },
      "execution_count": 39,
      "outputs": [
        {
          "output_type": "execute_result",
          "data": {
            "text/plain": [
              "0.9668508287292817"
            ]
          },
          "metadata": {},
          "execution_count": 39
        }
      ]
    },
    {
      "cell_type": "code",
      "source": [
        "thyroid_df.head()"
      ],
      "metadata": {
        "execution": {
          "iopub.status.busy": "2024-02-08T14:14:33.127318Z",
          "iopub.execute_input": "2024-02-08T14:14:33.128032Z",
          "iopub.status.idle": "2024-02-08T14:14:33.150169Z",
          "shell.execute_reply.started": "2024-02-08T14:14:33.127993Z",
          "shell.execute_reply": "2024-02-08T14:14:33.149132Z"
        },
        "trusted": true,
        "colab": {
          "base_uri": "https://localhost:8080/",
          "height": 206
        },
        "id": "cDol-SU6gSiw",
        "outputId": "adef4883-a9db-438e-a5c4-6a7c6bb4d294"
      },
      "execution_count": 40,
      "outputs": [
        {
          "output_type": "execute_result",
          "data": {
            "text/plain": [
              "   age sex sick pregnant thyroid surgery I131 treatment lithium goitre tumor  \\\n",
              "0   41   F    f        f               f              f       f      f     f   \n",
              "1   23   F    f        f               f              f       f      f     f   \n",
              "2   46   M    f        f               f              f       f      f     f   \n",
              "3   70   F    f        f               f              f       f      f     f   \n",
              "4   70   F    f        f               f              f       f      f     f   \n",
              "\n",
              "    TSH      T3  TT4    T4U  FTI Label  \n",
              "0  1.30  2.5000  125  1.140  109     P  \n",
              "1  4.10  2.0000  102  0.995  110     P  \n",
              "2  0.98  2.0135  109  0.910  120     P  \n",
              "3  0.16  1.9000  175  0.995  110     P  \n",
              "4  0.72  1.2000   61  0.870   70     P  "
            ],
            "text/html": [
              "\n",
              "  <div id=\"df-bac15a87-0b9b-4d77-8b56-2eb7e6828e5b\" class=\"colab-df-container\">\n",
              "    <div>\n",
              "<style scoped>\n",
              "    .dataframe tbody tr th:only-of-type {\n",
              "        vertical-align: middle;\n",
              "    }\n",
              "\n",
              "    .dataframe tbody tr th {\n",
              "        vertical-align: top;\n",
              "    }\n",
              "\n",
              "    .dataframe thead th {\n",
              "        text-align: right;\n",
              "    }\n",
              "</style>\n",
              "<table border=\"1\" class=\"dataframe\">\n",
              "  <thead>\n",
              "    <tr style=\"text-align: right;\">\n",
              "      <th></th>\n",
              "      <th>age</th>\n",
              "      <th>sex</th>\n",
              "      <th>sick</th>\n",
              "      <th>pregnant</th>\n",
              "      <th>thyroid surgery</th>\n",
              "      <th>I131 treatment</th>\n",
              "      <th>lithium</th>\n",
              "      <th>goitre</th>\n",
              "      <th>tumor</th>\n",
              "      <th>TSH</th>\n",
              "      <th>T3</th>\n",
              "      <th>TT4</th>\n",
              "      <th>T4U</th>\n",
              "      <th>FTI</th>\n",
              "      <th>Label</th>\n",
              "    </tr>\n",
              "  </thead>\n",
              "  <tbody>\n",
              "    <tr>\n",
              "      <th>0</th>\n",
              "      <td>41</td>\n",
              "      <td>F</td>\n",
              "      <td>f</td>\n",
              "      <td>f</td>\n",
              "      <td>f</td>\n",
              "      <td>f</td>\n",
              "      <td>f</td>\n",
              "      <td>f</td>\n",
              "      <td>f</td>\n",
              "      <td>1.30</td>\n",
              "      <td>2.5000</td>\n",
              "      <td>125</td>\n",
              "      <td>1.140</td>\n",
              "      <td>109</td>\n",
              "      <td>P</td>\n",
              "    </tr>\n",
              "    <tr>\n",
              "      <th>1</th>\n",
              "      <td>23</td>\n",
              "      <td>F</td>\n",
              "      <td>f</td>\n",
              "      <td>f</td>\n",
              "      <td>f</td>\n",
              "      <td>f</td>\n",
              "      <td>f</td>\n",
              "      <td>f</td>\n",
              "      <td>f</td>\n",
              "      <td>4.10</td>\n",
              "      <td>2.0000</td>\n",
              "      <td>102</td>\n",
              "      <td>0.995</td>\n",
              "      <td>110</td>\n",
              "      <td>P</td>\n",
              "    </tr>\n",
              "    <tr>\n",
              "      <th>2</th>\n",
              "      <td>46</td>\n",
              "      <td>M</td>\n",
              "      <td>f</td>\n",
              "      <td>f</td>\n",
              "      <td>f</td>\n",
              "      <td>f</td>\n",
              "      <td>f</td>\n",
              "      <td>f</td>\n",
              "      <td>f</td>\n",
              "      <td>0.98</td>\n",
              "      <td>2.0135</td>\n",
              "      <td>109</td>\n",
              "      <td>0.910</td>\n",
              "      <td>120</td>\n",
              "      <td>P</td>\n",
              "    </tr>\n",
              "    <tr>\n",
              "      <th>3</th>\n",
              "      <td>70</td>\n",
              "      <td>F</td>\n",
              "      <td>f</td>\n",
              "      <td>f</td>\n",
              "      <td>f</td>\n",
              "      <td>f</td>\n",
              "      <td>f</td>\n",
              "      <td>f</td>\n",
              "      <td>f</td>\n",
              "      <td>0.16</td>\n",
              "      <td>1.9000</td>\n",
              "      <td>175</td>\n",
              "      <td>0.995</td>\n",
              "      <td>110</td>\n",
              "      <td>P</td>\n",
              "    </tr>\n",
              "    <tr>\n",
              "      <th>4</th>\n",
              "      <td>70</td>\n",
              "      <td>F</td>\n",
              "      <td>f</td>\n",
              "      <td>f</td>\n",
              "      <td>f</td>\n",
              "      <td>f</td>\n",
              "      <td>f</td>\n",
              "      <td>f</td>\n",
              "      <td>f</td>\n",
              "      <td>0.72</td>\n",
              "      <td>1.2000</td>\n",
              "      <td>61</td>\n",
              "      <td>0.870</td>\n",
              "      <td>70</td>\n",
              "      <td>P</td>\n",
              "    </tr>\n",
              "  </tbody>\n",
              "</table>\n",
              "</div>\n",
              "    <div class=\"colab-df-buttons\">\n",
              "\n",
              "  <div class=\"colab-df-container\">\n",
              "    <button class=\"colab-df-convert\" onclick=\"convertToInteractive('df-bac15a87-0b9b-4d77-8b56-2eb7e6828e5b')\"\n",
              "            title=\"Convert this dataframe to an interactive table.\"\n",
              "            style=\"display:none;\">\n",
              "\n",
              "  <svg xmlns=\"http://www.w3.org/2000/svg\" height=\"24px\" viewBox=\"0 -960 960 960\">\n",
              "    <path d=\"M120-120v-720h720v720H120Zm60-500h600v-160H180v160Zm220 220h160v-160H400v160Zm0 220h160v-160H400v160ZM180-400h160v-160H180v160Zm440 0h160v-160H620v160ZM180-180h160v-160H180v160Zm440 0h160v-160H620v160Z\"/>\n",
              "  </svg>\n",
              "    </button>\n",
              "\n",
              "  <style>\n",
              "    .colab-df-container {\n",
              "      display:flex;\n",
              "      gap: 12px;\n",
              "    }\n",
              "\n",
              "    .colab-df-convert {\n",
              "      background-color: #E8F0FE;\n",
              "      border: none;\n",
              "      border-radius: 50%;\n",
              "      cursor: pointer;\n",
              "      display: none;\n",
              "      fill: #1967D2;\n",
              "      height: 32px;\n",
              "      padding: 0 0 0 0;\n",
              "      width: 32px;\n",
              "    }\n",
              "\n",
              "    .colab-df-convert:hover {\n",
              "      background-color: #E2EBFA;\n",
              "      box-shadow: 0px 1px 2px rgba(60, 64, 67, 0.3), 0px 1px 3px 1px rgba(60, 64, 67, 0.15);\n",
              "      fill: #174EA6;\n",
              "    }\n",
              "\n",
              "    .colab-df-buttons div {\n",
              "      margin-bottom: 4px;\n",
              "    }\n",
              "\n",
              "    [theme=dark] .colab-df-convert {\n",
              "      background-color: #3B4455;\n",
              "      fill: #D2E3FC;\n",
              "    }\n",
              "\n",
              "    [theme=dark] .colab-df-convert:hover {\n",
              "      background-color: #434B5C;\n",
              "      box-shadow: 0px 1px 3px 1px rgba(0, 0, 0, 0.15);\n",
              "      filter: drop-shadow(0px 1px 2px rgba(0, 0, 0, 0.3));\n",
              "      fill: #FFFFFF;\n",
              "    }\n",
              "  </style>\n",
              "\n",
              "    <script>\n",
              "      const buttonEl =\n",
              "        document.querySelector('#df-bac15a87-0b9b-4d77-8b56-2eb7e6828e5b button.colab-df-convert');\n",
              "      buttonEl.style.display =\n",
              "        google.colab.kernel.accessAllowed ? 'block' : 'none';\n",
              "\n",
              "      async function convertToInteractive(key) {\n",
              "        const element = document.querySelector('#df-bac15a87-0b9b-4d77-8b56-2eb7e6828e5b');\n",
              "        const dataTable =\n",
              "          await google.colab.kernel.invokeFunction('convertToInteractive',\n",
              "                                                    [key], {});\n",
              "        if (!dataTable) return;\n",
              "\n",
              "        const docLinkHtml = 'Like what you see? Visit the ' +\n",
              "          '<a target=\"_blank\" href=https://colab.research.google.com/notebooks/data_table.ipynb>data table notebook</a>'\n",
              "          + ' to learn more about interactive tables.';\n",
              "        element.innerHTML = '';\n",
              "        dataTable['output_type'] = 'display_data';\n",
              "        await google.colab.output.renderOutput(dataTable, element);\n",
              "        const docLink = document.createElement('div');\n",
              "        docLink.innerHTML = docLinkHtml;\n",
              "        element.appendChild(docLink);\n",
              "      }\n",
              "    </script>\n",
              "  </div>\n",
              "\n",
              "\n",
              "<div id=\"df-9e4ff7c8-d557-421d-a53d-2cc14b2048e1\">\n",
              "  <button class=\"colab-df-quickchart\" onclick=\"quickchart('df-9e4ff7c8-d557-421d-a53d-2cc14b2048e1')\"\n",
              "            title=\"Suggest charts\"\n",
              "            style=\"display:none;\">\n",
              "\n",
              "<svg xmlns=\"http://www.w3.org/2000/svg\" height=\"24px\"viewBox=\"0 0 24 24\"\n",
              "     width=\"24px\">\n",
              "    <g>\n",
              "        <path d=\"M19 3H5c-1.1 0-2 .9-2 2v14c0 1.1.9 2 2 2h14c1.1 0 2-.9 2-2V5c0-1.1-.9-2-2-2zM9 17H7v-7h2v7zm4 0h-2V7h2v10zm4 0h-2v-4h2v4z\"/>\n",
              "    </g>\n",
              "</svg>\n",
              "  </button>\n",
              "\n",
              "<style>\n",
              "  .colab-df-quickchart {\n",
              "      --bg-color: #E8F0FE;\n",
              "      --fill-color: #1967D2;\n",
              "      --hover-bg-color: #E2EBFA;\n",
              "      --hover-fill-color: #174EA6;\n",
              "      --disabled-fill-color: #AAA;\n",
              "      --disabled-bg-color: #DDD;\n",
              "  }\n",
              "\n",
              "  [theme=dark] .colab-df-quickchart {\n",
              "      --bg-color: #3B4455;\n",
              "      --fill-color: #D2E3FC;\n",
              "      --hover-bg-color: #434B5C;\n",
              "      --hover-fill-color: #FFFFFF;\n",
              "      --disabled-bg-color: #3B4455;\n",
              "      --disabled-fill-color: #666;\n",
              "  }\n",
              "\n",
              "  .colab-df-quickchart {\n",
              "    background-color: var(--bg-color);\n",
              "    border: none;\n",
              "    border-radius: 50%;\n",
              "    cursor: pointer;\n",
              "    display: none;\n",
              "    fill: var(--fill-color);\n",
              "    height: 32px;\n",
              "    padding: 0;\n",
              "    width: 32px;\n",
              "  }\n",
              "\n",
              "  .colab-df-quickchart:hover {\n",
              "    background-color: var(--hover-bg-color);\n",
              "    box-shadow: 0 1px 2px rgba(60, 64, 67, 0.3), 0 1px 3px 1px rgba(60, 64, 67, 0.15);\n",
              "    fill: var(--button-hover-fill-color);\n",
              "  }\n",
              "\n",
              "  .colab-df-quickchart-complete:disabled,\n",
              "  .colab-df-quickchart-complete:disabled:hover {\n",
              "    background-color: var(--disabled-bg-color);\n",
              "    fill: var(--disabled-fill-color);\n",
              "    box-shadow: none;\n",
              "  }\n",
              "\n",
              "  .colab-df-spinner {\n",
              "    border: 2px solid var(--fill-color);\n",
              "    border-color: transparent;\n",
              "    border-bottom-color: var(--fill-color);\n",
              "    animation:\n",
              "      spin 1s steps(1) infinite;\n",
              "  }\n",
              "\n",
              "  @keyframes spin {\n",
              "    0% {\n",
              "      border-color: transparent;\n",
              "      border-bottom-color: var(--fill-color);\n",
              "      border-left-color: var(--fill-color);\n",
              "    }\n",
              "    20% {\n",
              "      border-color: transparent;\n",
              "      border-left-color: var(--fill-color);\n",
              "      border-top-color: var(--fill-color);\n",
              "    }\n",
              "    30% {\n",
              "      border-color: transparent;\n",
              "      border-left-color: var(--fill-color);\n",
              "      border-top-color: var(--fill-color);\n",
              "      border-right-color: var(--fill-color);\n",
              "    }\n",
              "    40% {\n",
              "      border-color: transparent;\n",
              "      border-right-color: var(--fill-color);\n",
              "      border-top-color: var(--fill-color);\n",
              "    }\n",
              "    60% {\n",
              "      border-color: transparent;\n",
              "      border-right-color: var(--fill-color);\n",
              "    }\n",
              "    80% {\n",
              "      border-color: transparent;\n",
              "      border-right-color: var(--fill-color);\n",
              "      border-bottom-color: var(--fill-color);\n",
              "    }\n",
              "    90% {\n",
              "      border-color: transparent;\n",
              "      border-bottom-color: var(--fill-color);\n",
              "    }\n",
              "  }\n",
              "</style>\n",
              "\n",
              "  <script>\n",
              "    async function quickchart(key) {\n",
              "      const quickchartButtonEl =\n",
              "        document.querySelector('#' + key + ' button');\n",
              "      quickchartButtonEl.disabled = true;  // To prevent multiple clicks.\n",
              "      quickchartButtonEl.classList.add('colab-df-spinner');\n",
              "      try {\n",
              "        const charts = await google.colab.kernel.invokeFunction(\n",
              "            'suggestCharts', [key], {});\n",
              "      } catch (error) {\n",
              "        console.error('Error during call to suggestCharts:', error);\n",
              "      }\n",
              "      quickchartButtonEl.classList.remove('colab-df-spinner');\n",
              "      quickchartButtonEl.classList.add('colab-df-quickchart-complete');\n",
              "    }\n",
              "    (() => {\n",
              "      let quickchartButtonEl =\n",
              "        document.querySelector('#df-9e4ff7c8-d557-421d-a53d-2cc14b2048e1 button');\n",
              "      quickchartButtonEl.style.display =\n",
              "        google.colab.kernel.accessAllowed ? 'block' : 'none';\n",
              "    })();\n",
              "  </script>\n",
              "</div>\n",
              "    </div>\n",
              "  </div>\n"
            ]
          },
          "metadata": {},
          "execution_count": 40
        }
      ]
    },
    {
      "cell_type": "code",
      "source": [
        "from sklearn.model_selection import GridSearchCV\n",
        "from sklearn.ensemble import RandomForestClassifier\n",
        "param_grid = {\n",
        "    'n_estimators': [100, 200, 300],\n",
        "    'max_depth': [None, 5, 10, 20],\n",
        "    'min_samples_split': [2, 5, 10],\n",
        "    'min_samples_leaf': [1, 2, 4]\n",
        "}\n",
        "\n",
        "rf_classifier = RandomForestClassifier(random_state=11)\n",
        "grid_search = GridSearchCV(estimator=rf_classifier, param_grid=param_grid, cv=5, scoring='accuracy')\n",
        "grid_search.fit(X_train, y_train)\n",
        "best_params = grid_search.best_params_\n",
        "best_score = grid_search.best_score_\n",
        "print(\"Best Parameters:\", best_params)\n",
        "print(\"Best Score:\", best_score)"
      ],
      "metadata": {
        "execution": {
          "iopub.status.busy": "2024-02-08T14:14:33.151593Z",
          "iopub.execute_input": "2024-02-08T14:14:33.151896Z",
          "iopub.status.idle": "2024-02-08T14:20:10.189231Z",
          "shell.execute_reply.started": "2024-02-08T14:14:33.151856Z",
          "shell.execute_reply": "2024-02-08T14:20:10.188304Z"
        },
        "trusted": true,
        "colab": {
          "base_uri": "https://localhost:8080/"
        },
        "id": "SjkMTp8qgSiw",
        "outputId": "2c73b993-bac5-4416-d02c-eb5dbfb589fa"
      },
      "execution_count": 41,
      "outputs": [
        {
          "output_type": "stream",
          "name": "stdout",
          "text": [
            "Best Parameters: {'max_depth': 10, 'min_samples_leaf': 1, 'min_samples_split': 10, 'n_estimators': 100}\n",
            "Best Score: 0.9823905663748436\n"
          ]
        }
      ]
    },
    {
      "cell_type": "code",
      "source": [
        "!pip install gradio"
      ],
      "metadata": {
        "colab": {
          "base_uri": "https://localhost:8080/"
        },
        "id": "76iTB7pDsamV",
        "outputId": "731fb74c-613b-43bf-b716-091e80b5c4ec"
      },
      "execution_count": 44,
      "outputs": [
        {
          "output_type": "stream",
          "name": "stdout",
          "text": [
            "Collecting gradio\n",
            "  Downloading gradio-4.17.0-py3-none-any.whl (16.7 MB)\n",
            "\u001b[2K     \u001b[90m━━━━━━━━━━━━━━━━━━━━━━━━━━━━━━━━━━━━━━━━\u001b[0m \u001b[32m16.7/16.7 MB\u001b[0m \u001b[31m25.4 MB/s\u001b[0m eta \u001b[36m0:00:00\u001b[0m\n",
            "\u001b[?25hCollecting aiofiles<24.0,>=22.0 (from gradio)\n",
            "  Downloading aiofiles-23.2.1-py3-none-any.whl (15 kB)\n",
            "Requirement already satisfied: altair<6.0,>=4.2.0 in /usr/local/lib/python3.10/dist-packages (from gradio) (4.2.2)\n",
            "Collecting fastapi (from gradio)\n",
            "  Downloading fastapi-0.109.2-py3-none-any.whl (92 kB)\n",
            "\u001b[2K     \u001b[90m━━━━━━━━━━━━━━━━━━━━━━━━━━━━━━━━━━━━━━━━\u001b[0m \u001b[32m92.1/92.1 kB\u001b[0m \u001b[31m12.1 MB/s\u001b[0m eta \u001b[36m0:00:00\u001b[0m\n",
            "\u001b[?25hCollecting ffmpy (from gradio)\n",
            "  Downloading ffmpy-0.3.1.tar.gz (5.5 kB)\n",
            "  Preparing metadata (setup.py) ... \u001b[?25l\u001b[?25hdone\n",
            "Collecting gradio-client==0.9.0 (from gradio)\n",
            "  Downloading gradio_client-0.9.0-py3-none-any.whl (306 kB)\n",
            "\u001b[2K     \u001b[90m━━━━━━━━━━━━━━━━━━━━━━━━━━━━━━━━━━━━━━━━\u001b[0m \u001b[32m306.8/306.8 kB\u001b[0m \u001b[31m34.7 MB/s\u001b[0m eta \u001b[36m0:00:00\u001b[0m\n",
            "\u001b[?25hCollecting httpx (from gradio)\n",
            "  Downloading httpx-0.26.0-py3-none-any.whl (75 kB)\n",
            "\u001b[2K     \u001b[90m━━━━━━━━━━━━━━━━━━━━━━━━━━━━━━━━━━━━━━━━\u001b[0m \u001b[32m75.9/75.9 kB\u001b[0m \u001b[31m8.2 MB/s\u001b[0m eta \u001b[36m0:00:00\u001b[0m\n",
            "\u001b[?25hRequirement already satisfied: huggingface-hub>=0.19.3 in /usr/local/lib/python3.10/dist-packages (from gradio) (0.20.3)\n",
            "Requirement already satisfied: importlib-resources<7.0,>=1.3 in /usr/local/lib/python3.10/dist-packages (from gradio) (6.1.1)\n",
            "Requirement already satisfied: jinja2<4.0 in /usr/local/lib/python3.10/dist-packages (from gradio) (3.1.3)\n",
            "Requirement already satisfied: markupsafe~=2.0 in /usr/local/lib/python3.10/dist-packages (from gradio) (2.1.5)\n",
            "Requirement already satisfied: matplotlib~=3.0 in /usr/local/lib/python3.10/dist-packages (from gradio) (3.7.1)\n",
            "Requirement already satisfied: numpy~=1.0 in /usr/local/lib/python3.10/dist-packages (from gradio) (1.23.5)\n",
            "Collecting orjson~=3.0 (from gradio)\n",
            "  Downloading orjson-3.9.13-cp310-cp310-manylinux_2_17_x86_64.manylinux2014_x86_64.whl (138 kB)\n",
            "\u001b[2K     \u001b[90m━━━━━━━━━━━━━━━━━━━━━━━━━━━━━━━━━━━━━━━━\u001b[0m \u001b[32m138.7/138.7 kB\u001b[0m \u001b[31m19.2 MB/s\u001b[0m eta \u001b[36m0:00:00\u001b[0m\n",
            "\u001b[?25hRequirement already satisfied: packaging in /usr/local/lib/python3.10/dist-packages (from gradio) (23.2)\n",
            "Requirement already satisfied: pandas<3.0,>=1.0 in /usr/local/lib/python3.10/dist-packages (from gradio) (1.5.3)\n",
            "Requirement already satisfied: pillow<11.0,>=8.0 in /usr/local/lib/python3.10/dist-packages (from gradio) (9.4.0)\n",
            "Requirement already satisfied: pydantic>=2.0 in /usr/local/lib/python3.10/dist-packages (from gradio) (2.6.1)\n",
            "Collecting pydub (from gradio)\n",
            "  Downloading pydub-0.25.1-py2.py3-none-any.whl (32 kB)\n",
            "Collecting python-multipart (from gradio)\n",
            "  Downloading python_multipart-0.0.7-py3-none-any.whl (22 kB)\n",
            "Requirement already satisfied: pyyaml<7.0,>=5.0 in /usr/local/lib/python3.10/dist-packages (from gradio) (6.0.1)\n",
            "Collecting ruff>=0.1.7 (from gradio)\n",
            "  Downloading ruff-0.2.1-py3-none-manylinux_2_17_x86_64.manylinux2014_x86_64.whl (7.6 MB)\n",
            "\u001b[2K     \u001b[90m━━━━━━━━━━━━━━━━━━━━━━━━━━━━━━━━━━━━━━━━\u001b[0m \u001b[32m7.6/7.6 MB\u001b[0m \u001b[31m38.7 MB/s\u001b[0m eta \u001b[36m0:00:00\u001b[0m\n",
            "\u001b[?25hCollecting semantic-version~=2.0 (from gradio)\n",
            "  Downloading semantic_version-2.10.0-py2.py3-none-any.whl (15 kB)\n",
            "Collecting tomlkit==0.12.0 (from gradio)\n",
            "  Downloading tomlkit-0.12.0-py3-none-any.whl (37 kB)\n",
            "Requirement already satisfied: typer[all]<1.0,>=0.9 in /usr/local/lib/python3.10/dist-packages (from gradio) (0.9.0)\n",
            "Requirement already satisfied: typing-extensions~=4.0 in /usr/local/lib/python3.10/dist-packages (from gradio) (4.9.0)\n",
            "Collecting uvicorn>=0.14.0 (from gradio)\n",
            "  Downloading uvicorn-0.27.0.post1-py3-none-any.whl (60 kB)\n",
            "\u001b[2K     \u001b[90m━━━━━━━━━━━━━━━━━━━━━━━━━━━━━━━━━━━━━━━━\u001b[0m \u001b[32m60.7/60.7 kB\u001b[0m \u001b[31m8.1 MB/s\u001b[0m eta \u001b[36m0:00:00\u001b[0m\n",
            "\u001b[?25hRequirement already satisfied: fsspec in /usr/local/lib/python3.10/dist-packages (from gradio-client==0.9.0->gradio) (2023.6.0)\n",
            "Collecting websockets<12.0,>=10.0 (from gradio-client==0.9.0->gradio)\n",
            "  Downloading websockets-11.0.3-cp310-cp310-manylinux_2_5_x86_64.manylinux1_x86_64.manylinux_2_17_x86_64.manylinux2014_x86_64.whl (129 kB)\n",
            "\u001b[2K     \u001b[90m━━━━━━━━━━━━━━━━━━━━━━━━━━━━━━━━━━━━━━━━\u001b[0m \u001b[32m129.9/129.9 kB\u001b[0m \u001b[31m15.4 MB/s\u001b[0m eta \u001b[36m0:00:00\u001b[0m\n",
            "\u001b[?25hRequirement already satisfied: entrypoints in /usr/local/lib/python3.10/dist-packages (from altair<6.0,>=4.2.0->gradio) (0.4)\n",
            "Requirement already satisfied: jsonschema>=3.0 in /usr/local/lib/python3.10/dist-packages (from altair<6.0,>=4.2.0->gradio) (4.19.2)\n",
            "Requirement already satisfied: toolz in /usr/local/lib/python3.10/dist-packages (from altair<6.0,>=4.2.0->gradio) (0.12.1)\n",
            "Requirement already satisfied: filelock in /usr/local/lib/python3.10/dist-packages (from huggingface-hub>=0.19.3->gradio) (3.13.1)\n",
            "Requirement already satisfied: requests in /usr/local/lib/python3.10/dist-packages (from huggingface-hub>=0.19.3->gradio) (2.31.0)\n",
            "Requirement already satisfied: tqdm>=4.42.1 in /usr/local/lib/python3.10/dist-packages (from huggingface-hub>=0.19.3->gradio) (4.66.1)\n",
            "Requirement already satisfied: contourpy>=1.0.1 in /usr/local/lib/python3.10/dist-packages (from matplotlib~=3.0->gradio) (1.2.0)\n",
            "Requirement already satisfied: cycler>=0.10 in /usr/local/lib/python3.10/dist-packages (from matplotlib~=3.0->gradio) (0.12.1)\n",
            "Requirement already satisfied: fonttools>=4.22.0 in /usr/local/lib/python3.10/dist-packages (from matplotlib~=3.0->gradio) (4.48.1)\n",
            "Requirement already satisfied: kiwisolver>=1.0.1 in /usr/local/lib/python3.10/dist-packages (from matplotlib~=3.0->gradio) (1.4.5)\n",
            "Requirement already satisfied: pyparsing>=2.3.1 in /usr/local/lib/python3.10/dist-packages (from matplotlib~=3.0->gradio) (3.1.1)\n",
            "Requirement already satisfied: python-dateutil>=2.7 in /usr/local/lib/python3.10/dist-packages (from matplotlib~=3.0->gradio) (2.8.2)\n",
            "Requirement already satisfied: pytz>=2020.1 in /usr/local/lib/python3.10/dist-packages (from pandas<3.0,>=1.0->gradio) (2023.4)\n",
            "Requirement already satisfied: annotated-types>=0.4.0 in /usr/local/lib/python3.10/dist-packages (from pydantic>=2.0->gradio) (0.6.0)\n",
            "Requirement already satisfied: pydantic-core==2.16.2 in /usr/local/lib/python3.10/dist-packages (from pydantic>=2.0->gradio) (2.16.2)\n",
            "Requirement already satisfied: click<9.0.0,>=7.1.1 in /usr/local/lib/python3.10/dist-packages (from typer[all]<1.0,>=0.9->gradio) (8.1.7)\n",
            "Collecting colorama<0.5.0,>=0.4.3 (from typer[all]<1.0,>=0.9->gradio)\n",
            "  Downloading colorama-0.4.6-py2.py3-none-any.whl (25 kB)\n",
            "Collecting shellingham<2.0.0,>=1.3.0 (from typer[all]<1.0,>=0.9->gradio)\n",
            "  Downloading shellingham-1.5.4-py2.py3-none-any.whl (9.8 kB)\n",
            "Requirement already satisfied: rich<14.0.0,>=10.11.0 in /usr/local/lib/python3.10/dist-packages (from typer[all]<1.0,>=0.9->gradio) (13.7.0)\n",
            "Collecting h11>=0.8 (from uvicorn>=0.14.0->gradio)\n",
            "  Downloading h11-0.14.0-py3-none-any.whl (58 kB)\n",
            "\u001b[2K     \u001b[90m━━━━━━━━━━━━━━━━━━━━━━━━━━━━━━━━━━━━━━━━\u001b[0m \u001b[32m58.3/58.3 kB\u001b[0m \u001b[31m7.0 MB/s\u001b[0m eta \u001b[36m0:00:00\u001b[0m\n",
            "\u001b[?25hCollecting starlette<0.37.0,>=0.36.3 (from fastapi->gradio)\n",
            "  Downloading starlette-0.36.3-py3-none-any.whl (71 kB)\n",
            "\u001b[2K     \u001b[90m━━━━━━━━━━━━━━━━━━━━━━━━━━━━━━━━━━━━━━━━\u001b[0m \u001b[32m71.5/71.5 kB\u001b[0m \u001b[31m8.8 MB/s\u001b[0m eta \u001b[36m0:00:00\u001b[0m\n",
            "\u001b[?25hRequirement already satisfied: anyio in /usr/local/lib/python3.10/dist-packages (from httpx->gradio) (3.7.1)\n",
            "Requirement already satisfied: certifi in /usr/local/lib/python3.10/dist-packages (from httpx->gradio) (2024.2.2)\n",
            "Collecting httpcore==1.* (from httpx->gradio)\n",
            "  Downloading httpcore-1.0.2-py3-none-any.whl (76 kB)\n",
            "\u001b[2K     \u001b[90m━━━━━━━━━━━━━━━━━━━━━━━━━━━━━━━━━━━━━━━━\u001b[0m \u001b[32m76.9/76.9 kB\u001b[0m \u001b[31m8.1 MB/s\u001b[0m eta \u001b[36m0:00:00\u001b[0m\n",
            "\u001b[?25hRequirement already satisfied: idna in /usr/local/lib/python3.10/dist-packages (from httpx->gradio) (3.6)\n",
            "Requirement already satisfied: sniffio in /usr/local/lib/python3.10/dist-packages (from httpx->gradio) (1.3.0)\n",
            "Requirement already satisfied: attrs>=22.2.0 in /usr/local/lib/python3.10/dist-packages (from jsonschema>=3.0->altair<6.0,>=4.2.0->gradio) (23.2.0)\n",
            "Requirement already satisfied: jsonschema-specifications>=2023.03.6 in /usr/local/lib/python3.10/dist-packages (from jsonschema>=3.0->altair<6.0,>=4.2.0->gradio) (2023.12.1)\n",
            "Requirement already satisfied: referencing>=0.28.4 in /usr/local/lib/python3.10/dist-packages (from jsonschema>=3.0->altair<6.0,>=4.2.0->gradio) (0.33.0)\n",
            "Requirement already satisfied: rpds-py>=0.7.1 in /usr/local/lib/python3.10/dist-packages (from jsonschema>=3.0->altair<6.0,>=4.2.0->gradio) (0.17.1)\n",
            "Requirement already satisfied: six>=1.5 in /usr/local/lib/python3.10/dist-packages (from python-dateutil>=2.7->matplotlib~=3.0->gradio) (1.16.0)\n",
            "Requirement already satisfied: markdown-it-py>=2.2.0 in /usr/local/lib/python3.10/dist-packages (from rich<14.0.0,>=10.11.0->typer[all]<1.0,>=0.9->gradio) (3.0.0)\n",
            "Requirement already satisfied: pygments<3.0.0,>=2.13.0 in /usr/local/lib/python3.10/dist-packages (from rich<14.0.0,>=10.11.0->typer[all]<1.0,>=0.9->gradio) (2.16.1)\n",
            "Requirement already satisfied: exceptiongroup in /usr/local/lib/python3.10/dist-packages (from anyio->httpx->gradio) (1.2.0)\n",
            "Requirement already satisfied: charset-normalizer<4,>=2 in /usr/local/lib/python3.10/dist-packages (from requests->huggingface-hub>=0.19.3->gradio) (3.3.2)\n",
            "Requirement already satisfied: urllib3<3,>=1.21.1 in /usr/local/lib/python3.10/dist-packages (from requests->huggingface-hub>=0.19.3->gradio) (2.0.7)\n",
            "Requirement already satisfied: mdurl~=0.1 in /usr/local/lib/python3.10/dist-packages (from markdown-it-py>=2.2.0->rich<14.0.0,>=10.11.0->typer[all]<1.0,>=0.9->gradio) (0.1.2)\n",
            "Building wheels for collected packages: ffmpy\n",
            "  Building wheel for ffmpy (setup.py) ... \u001b[?25l\u001b[?25hdone\n",
            "  Created wheel for ffmpy: filename=ffmpy-0.3.1-py3-none-any.whl size=5579 sha256=0d68368ef4ee1e68b5207bffecd13c20f1df9b1069c2992b32ce244376970e5b\n",
            "  Stored in directory: /root/.cache/pip/wheels/01/a6/d1/1c0828c304a4283b2c1639a09ad86f83d7c487ef34c6b4a1bf\n",
            "Successfully built ffmpy\n",
            "Installing collected packages: pydub, ffmpy, websockets, tomlkit, shellingham, semantic-version, ruff, python-multipart, orjson, h11, colorama, aiofiles, uvicorn, starlette, httpcore, httpx, fastapi, gradio-client, gradio\n",
            "\u001b[31mERROR: pip's dependency resolver does not currently take into account all the packages that are installed. This behaviour is the source of the following dependency conflicts.\n",
            "lida 0.0.10 requires kaleido, which is not installed.\u001b[0m\u001b[31m\n",
            "\u001b[0mSuccessfully installed aiofiles-23.2.1 colorama-0.4.6 fastapi-0.109.2 ffmpy-0.3.1 gradio-4.17.0 gradio-client-0.9.0 h11-0.14.0 httpcore-1.0.2 httpx-0.26.0 orjson-3.9.13 pydub-0.25.1 python-multipart-0.0.7 ruff-0.2.1 semantic-version-2.10.0 shellingham-1.5.4 starlette-0.36.3 tomlkit-0.12.0 uvicorn-0.27.0.post1 websockets-11.0.3\n"
          ]
        }
      ]
    },
    {
      "cell_type": "code",
      "source": [
        "import gradio as gr\n",
        "import pandas as pd\n",
        "from sklearn.ensemble import RandomForestClassifier\n",
        "from sklearn.preprocessing import MinMaxScaler\n",
        "from sklearn.model_selection import train_test_split\n",
        "\n",
        "# Load the data\n",
        "thyroid_df = pd.read_csv('../input/thyroid-disease-data-set/hypothyroid.csv')\n",
        "\n",
        "# Preprocess the data\n",
        "thyroid_df.replace('?', pd.NA, inplace=True)\n",
        "thyroid_df.dropna(subset=['TSH', 'T3', 'TT4', 'T4U', 'FTI', 'age'], inplace=True)\n",
        "thyroid_df['TSH'] = thyroid_df['TSH'].astype(float)\n",
        "thyroid_df['T3'] = thyroid_df['T3'].astype(float)\n",
        "thyroid_df['TT4'] = thyroid_df['TT4'].astype(float)\n",
        "thyroid_df['T4U'] = thyroid_df['T4U'].astype(float)\n",
        "thyroid_df['FTI'] = thyroid_df['FTI'].astype(float)\n",
        "thyroid_df['age'] = thyroid_df['age'].astype(int)\n",
        "\n",
        "# Split data into features and target\n",
        "X = thyroid_df[['age', 'TSH', 'T3', 'TT4', 'T4U', 'FTI']]\n",
        "y = thyroid_df['binaryClass']  # Assuming 'binaryClass' is the target column\n",
        "\n",
        "# Feature scaling\n",
        "scaler = MinMaxScaler()\n",
        "X_scaled = scaler.fit_transform(X)\n",
        "\n",
        "# Split data into training and testing sets\n",
        "X_train, X_test, y_train, y_test = train_test_split(X_scaled, y, test_size=0.2, random_state=42)\n",
        "\n",
        "# Train the model\n",
        "model = RandomForestClassifier()\n",
        "model.fit(X_train, y_train)\n",
        "\n",
        "# Define function to predict thyroid disease\n",
        "def predict_thyroid_disease(age, TSH, T3, TT4, T4U, FTI):\n",
        "    # Create input DataFrame\n",
        "    input_data = pd.DataFrame({\n",
        "        'age': [age],\n",
        "        'TSH': [TSH],\n",
        "        'T3': [T3],\n",
        "        'TT4': [TT4],\n",
        "        'T4U': [T4U],\n",
        "        'FTI': [FTI]\n",
        "    })\n",
        "    # Predict using the trained model\n",
        "    prediction = model.predict(input_data)\n",
        "    return \"Hypothyroidism\" if prediction[0] == 1 else \"Hyperthyroidism\"\n",
        "\n",
        "# Create Gradio interface\n",
        "iface = gr.Interface(\n",
        "    fn=predict_thyroid_disease,\n",
        "    inputs=[\"number\", \"number\", \"number\", \"number\", \"number\", \"number\"],\n",
        "    outputs=\"text\",\n",
        "    title=\"Thyroid Disease Predictor\",\n",
        "    description=\"Enter patient details to predict if they have hypothyroidism or hyperthyroidism.\"\n",
        ")\n",
        "\n",
        "# Launch the interface\n",
        "iface.launch()\n"
      ],
      "metadata": {
        "colab": {
          "base_uri": "https://localhost:8080/",
          "height": 630
        },
        "id": "WmbqEG-SwVlm",
        "outputId": "660a8c47-c7df-443e-af2c-d9dc92b23f33"
      },
      "execution_count": 64,
      "outputs": [
        {
          "output_type": "stream",
          "name": "stdout",
          "text": [
            "Setting queue=True in a Colab notebook requires sharing enabled. Setting `share=True` (you can turn this off by setting `share=False` in `launch()` explicitly).\n",
            "\n",
            "Colab notebook detected. To show errors in colab notebook, set debug=True in launch()\n",
            "Running on public URL: https://f7c430a758b1172210.gradio.live\n",
            "\n",
            "This share link expires in 72 hours. For free permanent hosting and GPU upgrades, run `gradio deploy` from Terminal to deploy to Spaces (https://huggingface.co/spaces)\n"
          ]
        },
        {
          "output_type": "display_data",
          "data": {
            "text/plain": [
              "<IPython.core.display.HTML object>"
            ],
            "text/html": [
              "<div><iframe src=\"https://f7c430a758b1172210.gradio.live\" width=\"100%\" height=\"500\" allow=\"autoplay; camera; microphone; clipboard-read; clipboard-write;\" frameborder=\"0\" allowfullscreen></iframe></div>"
            ]
          },
          "metadata": {}
        },
        {
          "output_type": "execute_result",
          "data": {
            "text/plain": []
          },
          "metadata": {},
          "execution_count": 64
        }
      ]
    },
    {
      "cell_type": "code",
      "source": [],
      "metadata": {
        "id": "iR8Foz1gxHlS"
      },
      "execution_count": null,
      "outputs": []
    }
  ]
}